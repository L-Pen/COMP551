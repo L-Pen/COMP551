{
 "cells": [
  {
   "cell_type": "code",
   "execution_count": 40,
   "metadata": {},
   "outputs": [],
   "source": [
    "import pandas as pd\n",
    "import numpy as np\n",
    "import matplotlib.pyplot as plt\n",
    "from scipy.special import beta       \n",
    "import seaborn as sns\n",
    "import random\n",
    "from sklearn.model_selection import train_test_split"
   ]
  },
  {
   "attachments": {},
   "cell_type": "markdown",
   "metadata": {},
   "source": [
    "Getting dataset from the files"
   ]
  },
  {
   "cell_type": "code",
   "execution_count": 41,
   "metadata": {},
   "outputs": [],
   "source": [
    "def unpickle(file):\n",
    "    import pickle\n",
    "    with open(file, 'rb') as fo:\n",
    "        dict = pickle.load(fo, encoding='latin1')\n",
    "        # X=datadict['data'].reshape((len(datadict['data']), 3, 32, 32)).transpose(0, 2, 3, 1)\n",
    "        # dict_new=dict['data'].reshape((len(dict['data']), 3, 32, 32)).transpose(0, 2, 3, 1)\n",
    "    return dict\n",
    "\n",
    "def NormalizeData(X):\n",
    "    X = X.astype('float64')\n",
    "    X /= np.std(X, axis = 0)\n",
    "batch_1 = unpickle(\"data_batch_1\")\n",
    "batch_2 = unpickle(\"data_batch_2\")\n",
    "batch_3 = unpickle(\"data_batch_3\")\n",
    "batch_4 = unpickle(\"data_batch_4\")\n",
    "batch_5 = unpickle(\"data_batch_5\")\n",
    "# batch_test = unpickle(\"test_batch\")\n",
    "# batch_meta = unpickle(\"batches.meta\")\n",
    "features_1 = np.array(batch_1['data'].reshape((len(batch_1['data']), 3, 32, 32)).transpose(0, 2, 3, 1))\n",
    "features_2 = np.array(batch_2['data'].reshape((len(batch_2['data']), 3, 32, 32)).transpose(0, 2, 3, 1))\n",
    "features_3 = np.array(batch_3['data'].reshape((len(batch_3['data']), 3, 32, 32)).transpose(0, 2, 3, 1))\n",
    "features_4 = np.array(batch_4['data'].reshape((len(batch_4['data']), 3, 32, 32)).transpose(0, 2, 3, 1))\n",
    "features_5 = np.array(batch_5['data'].reshape((len(batch_5['data']), 3, 32, 32)).transpose(0, 2, 3, 1))\n",
    "NormalizeData(features_1[:])\n",
    "NormalizeData(features_2[:])\n",
    "NormalizeData(features_3[:])\n",
    "NormalizeData(features_4[:])\n",
    "NormalizeData(features_5[:])\n",
    "\n"
   ]
  },
  {
   "cell_type": "code",
   "execution_count": null,
   "metadata": {},
   "outputs": [],
   "source": []
  },
  {
   "attachments": {},
   "cell_type": "markdown",
   "metadata": {},
   "source": [
    "Multilayer perceptron algorithm:"
   ]
  },
  {
   "cell_type": "code",
   "execution_count": 42,
   "metadata": {},
   "outputs": [],
   "source": [
    "logistic = lambda z: 1./ (1 + np.exp(-z))\n",
    "\n",
    "class MLP:\n",
    "    \n",
    "    def __init__(self, M = 64):\n",
    "        self.M = M\n",
    "            \n",
    "    def fit(self, x, y, optimizer):\n",
    "        N,D = x.shape\n",
    "        def gradient(x, y, params):\n",
    "            v, w = params\n",
    "            z = logistic(np.dot(x, v)) #N x M\n",
    "            yh = logistic(np.dot(z, w))#N\n",
    "            dy = yh - y #N\n",
    "            dw = np.dot(z.T, dy)/N #M\n",
    "            dz = np.outer(dy, w) #N x M\n",
    "            dv = np.dot(x.T, dz * z * (1 - z))/N #D x M\n",
    "            dparams = [dv, dw]\n",
    "            return dparams\n",
    "        \n",
    "        w = np.random.randn(self.M) * .01\n",
    "        v = np.random.randn(D,self.M) * .01\n",
    "        params0 = [v,w]\n",
    "        self.params = optimizer.run(gradient, x, y, params0)\n",
    "        return self\n",
    "    \n",
    "    def predict(self, x):\n",
    "        v, w = self.params\n",
    "        z = logistic(np.dot(x, v)) #N x M\n",
    "        yh = logistic(np.dot(z, w))#N\n",
    "        return yh"
   ]
  },
  {
   "cell_type": "code",
   "execution_count": 43,
   "metadata": {},
   "outputs": [],
   "source": [
    "class SGD:\n",
    "    \n",
    "    def __init__(self, learning_rate=.001, max_iters=1e4, epsilon=1e-8, epochs = 100, batch_size = 1):\n",
    "        self.learning_rate = learning_rate\n",
    "        self.max_iters = max_iters\n",
    "        self.epsilon = epsilon\n",
    "        self.epochs = epochs\n",
    "        self.batch_size = batch_size\n",
    "        \n",
    "    def run(self, gradient_fn, x, y, params):\n",
    "        norms = np.array([np.inf])\n",
    "        t = 1\n",
    "        total_samples = x.shape[0]\n",
    "        while np.any(norms > self.epsilon) and t < self.max_iters:\n",
    "            tup = (x,y)\n",
    "            random.suffle(tup)\n",
    "            mini_batches = [\n",
    "                tup[z: z+self.batch_size]\n",
    "                for z in range(0,total_samples,self.batch_size)\n",
    "            ]\n",
    "            for batch in mini_batches:\n",
    "                gd(batch)\n",
    "            grad = gradient_fn(x, y, params)\n",
    "            for p in range(len(params)):\n",
    "                params[p] -= self.learning_rate * grad[p]\n",
    "            t += 1\n",
    "            norms = np.array([np.linalg.norm(g) for g in grad])\n",
    "        return params"
   ]
  }
 ],
 "metadata": {
  "kernelspec": {
   "display_name": "Python 3",
   "language": "python",
   "name": "python3"
  },
  "language_info": {
   "codemirror_mode": {
    "name": "ipython",
    "version": 3
   },
   "file_extension": ".py",
   "mimetype": "text/x-python",
   "name": "python",
   "nbconvert_exporter": "python",
   "pygments_lexer": "ipython3",
   "version": "3.10.0"
  },
  "orig_nbformat": 4,
  "vscode": {
   "interpreter": {
    "hash": "aee8b7b246df8f9039afb4144a1f6fd8d2ca17a180786b69acc140d282b71a49"
   }
  }
 },
 "nbformat": 4,
 "nbformat_minor": 2
}
