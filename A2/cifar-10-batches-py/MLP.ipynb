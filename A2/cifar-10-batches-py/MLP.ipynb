{
 "cells": [
  {
   "cell_type": "code",
   "execution_count": 135,
   "metadata": {},
   "outputs": [],
   "source": [
    "import pandas as pd\n",
    "import numpy as np\n",
    "import matplotlib.pyplot as plt\n",
    "from scipy.special import beta       \n",
    "import seaborn as sns\n",
    "import random\n",
    "from sklearn.model_selection import train_test_split"
   ]
  },
  {
   "attachments": {},
   "cell_type": "markdown",
   "metadata": {},
   "source": [
    "Getting dataset from the files"
   ]
  },
  {
   "cell_type": "code",
   "execution_count": 136,
   "metadata": {},
   "outputs": [],
   "source": [
    "def unpickle(file):\n",
    "    import pickle\n",
    "    with open(file, 'rb') as fo:\n",
    "        dict = pickle.load(fo, encoding='latin1')\n",
    "        # X=datadict['data'].reshape((len(datadict['data']), 3, 32, 32)).transpose(0, 2, 3, 1)\n",
    "        # dict_new=dict['data'].reshape((len(dict['data']), 3, 32, 32)).transpose(0, 2, 3, 1)\n",
    "    return dict\n",
    "\n",
    "def NormalizeData(X):\n",
    "    X = X.astype('float64')\n",
    "    X /= np.std(X, axis = 0)\n",
    "    return X\n",
    "batches =  []\n",
    "batches.append(unpickle(\"data_batch_1\"))\n",
    "batches.append(unpickle(\"data_batch_2\"))\n",
    "batches.append(unpickle(\"data_batch_3\"))\n",
    "batches.append(unpickle(\"data_batch_4\"))\n",
    "batches.append(unpickle(\"data_batch_5\"))\n",
    "# batch_test = unpickle(\"test_batch\")\n",
    "# batch_meta = unpickle(\"batches.meta\")\n",
    "features = []\n",
    "labels = []\n",
    "for batch in batches:\n",
    "    features.append(np.array(batch['data'].reshape((len(batch['data']), 3, 32, 32)).transpose(0, 2, 3, 1)))\n",
    "    labels.append(batch['labels'])\n",
    "for feat in features:\n",
    "    feat = NormalizeData(feat[:])\n",
    "for lab in labels:\n",
    "    maxval = np.max(lab)\n",
    "    lab = np.eye(maxval+1)[lab]"
   ]
  },
  {
   "cell_type": "code",
   "execution_count": 137,
   "metadata": {},
   "outputs": [],
   "source": [
    "class MISC:\n",
    "    def cost_derivative(self, aFunc, y):\n",
    "        derivative = aFunc - y\n",
    "        return derivative\n",
    "    \n",
    "    def sigmoid(self, z):\n",
    "        return 1.0/(1.0+np.exp(-z))\n",
    "    \n",
    "    def sigmoid_derivative(self, z):\n",
    "        return self.sigmoid(z)*(1-self.sigmoid(z))\n",
    "\n",
    "    def relu(z):\n",
    "        return np.maximum(0,z)\n",
    "    \n",
    "    def relu_derivative(z):\n",
    "        z[z<=0] = 0\n",
    "        z[z>0] = 1\n",
    "        return z\n",
    "\n",
    "    def tanh(z):\n",
    "        return (np.exp(z) - np.exp(-z)) / (np.exp(z) + np.exp(-z))\n",
    "    \n",
    "    def tanh_derivative(self, z):\n",
    "        return 1 - np.power(self.tanh(z), 2)\n",
    "\n",
    "    def softmax(x):\n",
    "        e = np.exp(x-np.max(x))\n",
    "        s = np.sum(e, axis=1, keepdims=True)\n",
    "        return e/s   \n",
    "    \n",
    "    def softmax_derivative(self, z):\n",
    "        return self.softmax(z)*self.softmax(1-z)\n",
    "\n",
    "    \n",
    "    def stringToFunc(self, stringAFunc, x):\n",
    "        if (stringAFunc.equals(\"Relu\")): return self.relu(x)\n",
    "        elif (stringAFunc.equals(\"Sigmoid\")): return self.sigmoid(x)\n",
    "        elif (stringAFunc.equals(\"tanh\")): return self.tanh(x)\n",
    "        else: return self.softmax(x)\n",
    "\n",
    "    def stringToFuncDer(self, stringAFunc, x):\n",
    "        if (stringAFunc.equals(\"Relu\")): return self.relu_derivative(x)\n",
    "        elif (stringAFunc.equals(\"Sigmoid\")): return self.sigmoid_derivative(x)\n",
    "        elif (stringAFunc.equals(\"tanh\")): return self.tanh_derivative(x)\n",
    "        else: return self.softmax_derivative(x)\n",
    "\n"
   ]
  },
  {
   "attachments": {},
   "cell_type": "markdown",
   "metadata": {},
   "source": [
    "Multilayer perceptron algorithm:"
   ]
  },
  {
   "cell_type": "code",
   "execution_count": 138,
   "metadata": {},
   "outputs": [],
   "source": [
    "class MLP:\n",
    "    \n",
    "    def __init__(self, aFunc, numOfHiddenLayers, numOfHiddenUnits):\n",
    "        self.aFunc = aFunc\n",
    "        self.numOfHiddenLayers = numOfHiddenLayers\n",
    "        self.numOfHiddenUnits = numOfHiddenUnits\n",
    "\n",
    "        self.weights = {}\n",
    "        self.biases = {}\n",
    "\n",
    "        \n",
    "        # Initialize weights and biases for hidden layers\n",
    "        for i in range(self.numOfHiddenLayers+1):\n",
    "            self.weights[i+1]=(np.random.randn(self.numOfHiddenUnits[i], self.numOfHiddenUnits[i-1]))\n",
    "            self.biases[i+1]=(np.zeros(self.numOfHiddenUnits[i]))\n",
    "        \n",
    "        # Initialize weights and biases for output layer\n",
    "        self.weights.append(np.random.randn(10, self.numOfHiddenUnits[-1]))\n",
    "        self.biases.append(np.zeros(10))\n",
    "            \n",
    "    def fit(self, x, y, optimizer):\n",
    "        \n",
    "        def backprop(self,mlp, x, y):\n",
    "            z = {}\n",
    "            a = {1: x}  \n",
    "            dr = None\n",
    "            \n",
    "            for i in range(1, mlp.numOfHiddenLayers+2):\n",
    "                z[i + 1] = np.dot(a[i], mlp.weights[i]) + mlp.biases[i]\n",
    "                a[i + 1] = MISC.stringToFunc(mlp.aFunc[i + 1], z[i + 1])\n",
    "\n",
    "            delta = MISC.cost_derivative(a[-1], y) * MISC.softmax_derivative(a[-1])\n",
    "            dw = np.dot(a[mlp.numOfHiddenLayers + 1].T, delta)\n",
    "        \n",
    "            update_params = {\n",
    "                self.numOfHiddenLayers - 1: (dw, delta)\n",
    "            }\n",
    "\n",
    "            for i in reversed(range(2, mlp.numOfHiddenLayers+2)):\n",
    "                dr = MISC.stringToFuncDer(mlp.aFunc[i], z[i])\n",
    "                delta = np.dot(delta, mlp.weights[i].T) * dr\n",
    "                dw = np.dot(a[i - 1].T, delta)\n",
    "                update_params[i - 1] = (dw, delta)\n",
    "\n",
    "            return update_params\n",
    "\n",
    "        self = optimizer.run(self,backprop, x, y)\n",
    "        return self\n",
    "            \n",
    "    def predict(self, x):\n",
    "        z = x\n",
    "        for v in self.params[:-1]:\n",
    "            z = self.aFunc(np.dot(x, v)) #N x M\n",
    "            x = z\n",
    "        yh = MISC.softmax(np.dot(z, self.params[-1]))#N\n",
    "        return yh    "
   ]
  },
  {
   "attachments": {},
   "cell_type": "markdown",
   "metadata": {},
   "source": [
    "GradientDescent Algorithm"
   ]
  },
  {
   "cell_type": "code",
   "execution_count": 139,
   "metadata": {},
   "outputs": [],
   "source": [
    "class GradientDescent:\n",
    "    \n",
    "    def __init__(self, learning_rate=.001, batch_size=16, max_iters=1e4, epsilon=1e-8, numOfHiddenLayers=0):\n",
    "        self.numOfHiddenLayers = numOfHiddenLayers\n",
    "        self.learning_rate = learning_rate\n",
    "        self.max_iters = max_iters\n",
    "        self.epsilon = epsilon\n",
    "        self.batch_size = batch_size\n",
    "        \n",
    "    def run(self, mlp,gradient_fn, x, y):\n",
    "        m = x.shape\n",
    "        num_batches = m[0] // self.batch_size\n",
    "        norms = np.array([np.inf])\n",
    "        t = 1\n",
    "        while np.any(norms > self.epsilon) and t < self.max_iters:\n",
    "            permutation = np.random.permutation(len(x))\n",
    "            x_shuffle = x#[permutation]\n",
    "            y_shuffle = y#[permutation]\n",
    "            \n",
    "            for a in range(num_batches):\n",
    "                start = a * self.batch_size\n",
    "                end = start + self.batch_size\n",
    "                x_batch = x_shuffle[start:end:]\n",
    "                y_batch = y_shuffle[start:end:]\n",
    "\n",
    "                # Compute the gradient \n",
    "                grad = gradient_fn(self,mlp,x_batch, y_batch)\n",
    "                for k, v in grad.items():\n",
    "                    dw = v[0]\n",
    "                    # dw += (self.lambd) * self.w[k] \n",
    "                    self.weights[k] -= self.learning_rate * dw\n",
    "                    self.biases[k] -= self.learning_rate * np.mean(v[1], 0)\n",
    "                # for p in range(len(params)):\n",
    "                #     params[p] -= self.learning_rate * grad[p]\n",
    "                # norms = np.array([np.linalg.norm(g) for g in grad])\n",
    "            t += 1\n",
    "        return self"
   ]
  },
  {
   "cell_type": "markdown",
   "metadata": {},
   "source": []
  },
  {
   "cell_type": "code",
   "execution_count": 140,
   "metadata": {},
   "outputs": [
    {
     "ename": "AttributeError",
     "evalue": "'dict' object has no attribute 'append'",
     "output_type": "error",
     "traceback": [
      "\u001b[0;31m---------------------------------------------------------------------------\u001b[0m",
      "\u001b[0;31mAttributeError\u001b[0m                            Traceback (most recent call last)",
      "Cell \u001b[0;32mIn[140], line 1\u001b[0m\n\u001b[0;32m----> 1\u001b[0m no_hidden \u001b[39m=\u001b[39m MLP((MISC\u001b[39m.\u001b[39;49msoftmax),\u001b[39m0\u001b[39;49m,(\u001b[39m0\u001b[39;49m,))\n\u001b[1;32m      2\u001b[0m optimizer \u001b[39m=\u001b[39m GradientDescent(numOfHiddenLayers\u001b[39m=\u001b[39m\u001b[39m0\u001b[39m)\n\u001b[1;32m      3\u001b[0m fit_no_hidden \u001b[39m=\u001b[39m no_hidden\u001b[39m.\u001b[39mfit(features[\u001b[39m0\u001b[39m],labels[\u001b[39m0\u001b[39m], optimizer)\n",
      "Cell \u001b[0;32mIn[138], line 18\u001b[0m, in \u001b[0;36mMLP.__init__\u001b[0;34m(self, aFunc, numOfHiddenLayers, numOfHiddenUnits)\u001b[0m\n\u001b[1;32m     15\u001b[0m     \u001b[39mself\u001b[39m\u001b[39m.\u001b[39mbiases[i\u001b[39m+\u001b[39m\u001b[39m1\u001b[39m]\u001b[39m=\u001b[39m(np\u001b[39m.\u001b[39mzeros(\u001b[39mself\u001b[39m\u001b[39m.\u001b[39mnumOfHiddenUnits[i]))\n\u001b[1;32m     17\u001b[0m \u001b[39m# Initialize weights and biases for output layer\u001b[39;00m\n\u001b[0;32m---> 18\u001b[0m \u001b[39mself\u001b[39;49m\u001b[39m.\u001b[39;49mweights\u001b[39m.\u001b[39;49mappend(np\u001b[39m.\u001b[39mrandom\u001b[39m.\u001b[39mrandn(\u001b[39m10\u001b[39m, \u001b[39mself\u001b[39m\u001b[39m.\u001b[39mnumOfHiddenUnits[\u001b[39m-\u001b[39m\u001b[39m1\u001b[39m]))\n\u001b[1;32m     19\u001b[0m \u001b[39mself\u001b[39m\u001b[39m.\u001b[39mbiases\u001b[39m.\u001b[39mappend(np\u001b[39m.\u001b[39mzeros(\u001b[39m10\u001b[39m))\n",
      "\u001b[0;31mAttributeError\u001b[0m: 'dict' object has no attribute 'append'"
     ]
    }
   ],
   "source": [
    "no_hidden = MLP((MISC.softmax),0,(0,))\n",
    "optimizer = GradientDescent(numOfHiddenLayers=0)\n",
    "fit_no_hidden = no_hidden.fit(features[0],labels[0], optimizer)\n",
    "optimizer = GradientDescent(numOfHiddenLayers=1)\n",
    "single_layer=  MLP((MISC.relu, MISC.softmax),1,(256,))\n",
    "fit_single_layer = single_layer.fit(batches[0][0],batches[0][1],optimizer)\n",
    "optimizer = GradientDescent(numOfHiddenLayers=2)\n",
    "two_layers = MLP((MISC.relu, MISC.softmax),2,(256,256))\n",
    "fit_two_layers = two_layers.fit(batches[0][0],batches[0][1],optimizer)"
   ]
  }
 ],
 "metadata": {
  "kernelspec": {
   "display_name": "Python 3",
   "language": "python",
   "name": "python3"
  },
  "language_info": {
   "codemirror_mode": {
    "name": "ipython",
    "version": 3
   },
   "file_extension": ".py",
   "mimetype": "text/x-python",
   "name": "python",
   "nbconvert_exporter": "python",
   "pygments_lexer": "ipython3",
   "version": "3.10.0"
  },
  "orig_nbformat": 4,
  "vscode": {
   "interpreter": {
    "hash": "aee8b7b246df8f9039afb4144a1f6fd8d2ca17a180786b69acc140d282b71a49"
   }
  }
 },
 "nbformat": 4,
 "nbformat_minor": 2
}
