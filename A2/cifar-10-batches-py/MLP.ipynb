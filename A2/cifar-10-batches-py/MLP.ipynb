{
 "cells": [
  {
   "cell_type": "code",
   "execution_count": null,
   "metadata": {},
   "outputs": [
    {
     "ename": "",
     "evalue": "",
     "output_type": "error",
     "traceback": [
      "\u001b[1;31mRunning cells with '/usr/bin/python3' requires the ipykernel package.\n",
      "\u001b[1;31mRun the following command to install 'ipykernel' into the Python environment. \n",
      "\u001b[1;31mCommand: '/usr/bin/python3 -m pip install ipykernel -U --user --force-reinstall'"
     ]
    }
   ],
   "source": [
    "import pandas as pd\n",
    "import numpy as np\n",
    "import matplotlib.pyplot as plt\n",
    "from scipy.special import beta       \n",
    "import seaborn as sns\n",
    "import random\n",
    "from sklearn.model_selection import train_test_split"
   ]
  },
  {
   "attachments": {},
   "cell_type": "markdown",
   "metadata": {},
   "source": [
    "Getting dataset from the files"
   ]
  },
  {
   "cell_type": "code",
   "execution_count": null,
   "metadata": {},
   "outputs": [
    {
     "ename": "",
     "evalue": "",
     "output_type": "error",
     "traceback": [
      "\u001b[1;31mRunning cells with '/usr/bin/python3' requires the ipykernel package.\n",
      "\u001b[1;31mRun the following command to install 'ipykernel' into the Python environment. \n",
      "\u001b[1;31mCommand: '/usr/bin/python3 -m pip install ipykernel -U --user --force-reinstall'"
     ]
    }
   ],
   "source": [
    "def unpickle(file):\n",
    "    import pickle\n",
    "    with open(file, 'rb') as fo:\n",
    "        dict = pickle.load(fo, encoding='latin1')\n",
    "        # X=datadict['data'].reshape((len(datadict['data']), 3, 32, 32)).transpose(0, 2, 3, 1)\n",
    "        # dict_new=dict['data'].reshape((len(dict['data']), 3, 32, 32)).transpose(0, 2, 3, 1)\n",
    "    return dict\n",
    "\n",
    "def NormalizeData(X):\n",
    "    X = X.astype('float64')\n",
    "    X /= np.std(X, axis = 0)\n",
    "batch_1 = unpickle(\"data_batch_1\")\n",
    "batch_2 = unpickle(\"data_batch_2\")\n",
    "batch_3 = unpickle(\"data_batch_3\")\n",
    "batch_4 = unpickle(\"data_batch_4\")\n",
    "batch_5 = unpickle(\"data_batch_5\")\n",
    "# batch_test = unpickle(\"test_batch\")\n",
    "# batch_meta = unpickle(\"batches.meta\")\n",
    "features_1 = np.array(batch_1['data'].reshape((len(batch_1['data']), 3, 32, 32)).transpose(0, 2, 3, 1))\n",
    "features_2 = np.array(batch_2['data'].reshape((len(batch_2['data']), 3, 32, 32)).transpose(0, 2, 3, 1))\n",
    "features_3 = np.array(batch_3['data'].reshape((len(batch_3['data']), 3, 32, 32)).transpose(0, 2, 3, 1))\n",
    "features_4 = np.array(batch_4['data'].reshape((len(batch_4['data']), 3, 32, 32)).transpose(0, 2, 3, 1))\n",
    "features_5 = np.array(batch_5['data'].reshape((len(batch_5['data']), 3, 32, 32)).transpose(0, 2, 3, 1))\n",
    "NormalizeData(features_1[:])\n",
    "NormalizeData(features_2[:])\n",
    "NormalizeData(features_3[:])\n",
    "NormalizeData(features_4[:])\n",
    "NormalizeData(features_5[:])\n",
    "\n"
   ]
  },
  {
   "cell_type": "code",
   "execution_count": null,
   "metadata": {},
   "outputs": [
    {
     "ename": "",
     "evalue": "",
     "output_type": "error",
     "traceback": [
      "\u001b[1;31mRunning cells with '/usr/bin/python3' requires the ipykernel package.\n",
      "\u001b[1;31mRun the following command to install 'ipykernel' into the Python environment. \n",
      "\u001b[1;31mCommand: '/usr/bin/python3 -m pip install ipykernel -U --user --force-reinstall'"
     ]
    }
   ],
   "source": []
  },
  {
   "attachments": {},
   "cell_type": "markdown",
   "metadata": {},
   "source": [
    "Multilayer perceptron algorithm:"
   ]
  },
  {
   "cell_type": "code",
   "execution_count": null,
   "metadata": {},
   "outputs": [
    {
     "ename": "",
     "evalue": "",
     "output_type": "error",
     "traceback": [
      "\u001b[1;31mRunning cells with '/usr/bin/python3' requires the ipykernel package.\n",
      "\u001b[1;31mRun the following command to install 'ipykernel' into the Python environment. \n",
      "\u001b[1;31mCommand: '/usr/bin/python3 -m pip install ipykernel -U --user --force-reinstall'"
     ]
    }
   ],
   "source": [
    "def softmax(x):\n",
    "        exp_x = np.exp(x)\n",
    "        return exp_x / np.sum(exp_x)\n",
    "\n",
    "class MLP:\n",
    "    \n",
    "    def __init__(self, aFunc, M):\n",
    "        self.aFunc = aFunc\n",
    "        self.M = M\n",
    "            \n",
    "    def fit(self, x, y, lr, epoch, optimizer):\n",
    "        return None\n",
    "            \n",
    "    def predict(self, x):\n",
    "        z = x\n",
    "        for v in self.params[:-1]:\n",
    "            z = self.aFunc(np.dot(x, v)) #N x M\n",
    "            x = z\n",
    "        yh = softmax(np.dot(z, self.params[-1]))#N\n",
    "        return yh    "
   ]
  },
  {
   "cell_type": "markdown",
   "metadata": {},
   "source": []
  }
 ],
 "metadata": {
  "kernelspec": {
   "display_name": "Python 3",
   "language": "python",
   "name": "python3"
  },
  "language_info": {
   "codemirror_mode": {
    "name": "ipython",
    "version": 3
   },
   "file_extension": ".py",
   "mimetype": "text/x-python",
   "name": "python",
   "nbconvert_exporter": "python",
   "pygments_lexer": "ipython3",
   "version": "3.9.6"
  },
  "orig_nbformat": 4,
  "vscode": {
   "interpreter": {
    "hash": "aee8b7b246df8f9039afb4144a1f6fd8d2ca17a180786b69acc140d282b71a49"
   }
  }
 },
 "nbformat": 4,
 "nbformat_minor": 2
}
