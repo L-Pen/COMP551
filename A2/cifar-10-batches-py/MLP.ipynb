{
 "cells": [
  {
   "cell_type": "code",
   "execution_count": null,
   "metadata": {},
   "outputs": [
    {
     "ename": "",
     "evalue": "",
     "output_type": "error",
     "traceback": [
      "\u001b[1;31mRunning cells with '/usr/bin/python3' requires the ipykernel package.\n",
      "\u001b[1;31mRun the following command to install 'ipykernel' into the Python environment. \n",
      "\u001b[1;31mCommand: '/usr/bin/python3 -m pip install ipykernel -U --user --force-reinstall'"
     ]
    }
   ],
   "source": [
    "import pandas as pd\n",
    "import numpy as np\n",
    "import matplotlib.pyplot as plt\n",
    "from scipy.special import beta       \n",
    "import seaborn as sns\n",
    "import random\n",
    "from sklearn.model_selection import train_test_split"
   ]
  },
  {
   "attachments": {},
   "cell_type": "markdown",
   "metadata": {},
   "source": [
    "Getting dataset from the files"
   ]
  },
  {
   "cell_type": "code",
   "execution_count": null,
   "metadata": {},
   "outputs": [
    {
     "ename": "",
     "evalue": "",
     "output_type": "error",
     "traceback": [
      "\u001b[1;31mRunning cells with '/usr/bin/python3' requires the ipykernel package.\n",
      "\u001b[1;31mRun the following command to install 'ipykernel' into the Python environment. \n",
      "\u001b[1;31mCommand: '/usr/bin/python3 -m pip install ipykernel -U --user --force-reinstall'"
     ]
    }
   ],
   "source": [
    "def unpickle(file):\n",
    "    import pickle\n",
    "    with open(file, 'rb') as fo:\n",
    "        dict = pickle.load(fo, encoding='latin1')\n",
    "        # X=datadict['data'].reshape((len(datadict['data']), 3, 32, 32)).transpose(0, 2, 3, 1)\n",
    "        # dict_new=dict['data'].reshape((len(dict['data']), 3, 32, 32)).transpose(0, 2, 3, 1)\n",
    "    return dict\n",
    "\n",
    "def NormalizeData(X):\n",
    "    X = X.astype('float64')\n",
    "    X /= np.std(X, axis = 0)\n",
    "batch_1 = unpickle(\"data_batch_1\")\n",
    "batch_2 = unpickle(\"data_batch_2\")\n",
    "batch_3 = unpickle(\"data_batch_3\")\n",
    "batch_4 = unpickle(\"data_batch_4\")\n",
    "batch_5 = unpickle(\"data_batch_5\")\n",
    "# batch_test = unpickle(\"test_batch\")\n",
    "# batch_meta = unpickle(\"batches.meta\")\n",
    "features_1 = np.array(batch_1['data'].reshape((len(batch_1['data']), 3, 32, 32)).transpose(0, 2, 3, 1))\n",
    "features_2 = np.array(batch_2['data'].reshape((len(batch_2['data']), 3, 32, 32)).transpose(0, 2, 3, 1))\n",
    "features_3 = np.array(batch_3['data'].reshape((len(batch_3['data']), 3, 32, 32)).transpose(0, 2, 3, 1))\n",
    "features_4 = np.array(batch_4['data'].reshape((len(batch_4['data']), 3, 32, 32)).transpose(0, 2, 3, 1))\n",
    "features_5 = np.array(batch_5['data'].reshape((len(batch_5['data']), 3, 32, 32)).transpose(0, 2, 3, 1))\n",
    "NormalizeData(features_1[:])\n",
    "NormalizeData(features_2[:])\n",
    "NormalizeData(features_3[:])\n",
    "NormalizeData(features_4[:])\n",
    "NormalizeData(features_5[:])\n",
    "\n"
   ]
  },
  {
   "cell_type": "code",
   "execution_count": null,
   "metadata": {},
   "outputs": [
    {
     "ename": "",
     "evalue": "",
     "output_type": "error",
     "traceback": [
      "\u001b[1;31mRunning cells with '/usr/bin/python3' requires the ipykernel package.\n",
      "\u001b[1;31mRun the following command to install 'ipykernel' into the Python environment. \n",
      "\u001b[1;31mCommand: '/usr/bin/python3 -m pip install ipykernel -U --user --force-reinstall'"
     ]
    }
   ],
   "source": [
    "class MISC:\n",
    "    def loss_Func(self, yh, y):\n",
    "\n",
    "        return None\n",
    "       \n",
    "    def cost_derivative(self, aFunc, y):\n",
    "        derivative = aFunc - y\n",
    "        return derivative\n",
    "    \n",
    "    def sigmoid(self, z):\n",
    "        return 1.0/(1.0+np.exp(-z))\n",
    "    def sigmoid_derivative(self, z):\n",
    "        return self.sigmoid(z)*(1-self.sigmoid(z))\n",
    "\n",
    "    def relu(z):\n",
    "      return np.maximum(0,z)\n",
    "    def relu_derivative(z):\n",
    "        z[z<=0] = 0\n",
    "        z[z>0] = 1\n",
    "        return z\n",
    "\n",
    "    def tanh(z):\n",
    "\t    return (np.exp(z) - np.exp(-z)) / (np.exp(z) + np.exp(-z))\n",
    "    def tanh_derivative(self, z):\n",
    "        return 1 - np.power(self.tanh(z), 2)\n",
    "\n",
    "    def softmax(x):\n",
    "      e = np.exp(x-np.max(x))\n",
    "      s = np.sum(e, axis=1, keepdims=True)\n",
    "      return e/s   \n",
    "    def softmax_derivative(self, z):\n",
    "       return self.softmax(z)*self.softmax(1-z)\n",
    "\n"
   ]
  },
  {
   "attachments": {},
   "cell_type": "markdown",
   "metadata": {},
   "source": [
    "Multilayer perceptron algorithm:"
   ]
  },
  {
   "cell_type": "code",
   "execution_count": null,
   "metadata": {},
   "outputs": [
    {
     "ename": "",
     "evalue": "",
     "output_type": "error",
     "traceback": [
      "\u001b[1;31mRunning cells with '/usr/bin/python3' requires the ipykernel package.\n",
      "\u001b[1;31mRun the following command to install 'ipykernel' into the Python environment. \n",
      "\u001b[1;31mCommand: '/usr/bin/python3 -m pip install ipykernel -U --user --force-reinstall'"
     ]
    }
   ],
   "source": [
    "class MLP:\n",
    "    \n",
    "    def __init__(self, aFunc, numOfHiddenLayers, numOfHiddenUnits):\n",
    "        self.aFunc = aFunc\n",
    "        self.numOfHiddenLayers = numOfHiddenLayers\n",
    "        self.numOfHiddenUnits = numOfHiddenUnits\n",
    "\n",
    "        self.weights = {}\n",
    "        self.biases = {}\n",
    "\n",
    "        # Initialize biases for input layer\n",
    "        self.biases.append(np.zeros(self.numOfHiddenUnits[0]))\n",
    "        \n",
    "        # Initialize weights and biases for hidden layers\n",
    "        for i in range(1, self.numOfHiddenLayers):\n",
    "            self.weights.append(np.random.randn(self.numOfHiddenUnits[i], self.numOfHiddenUnits[i-1]))\n",
    "            self.biases.append(np.zeros(self.numOfHiddenUnits[i]))\n",
    "        \n",
    "        # Initialize weights and biases for output layer\n",
    "        self.weights.append(np.random.randn(10, self.numOfHiddenUnits[-1]))\n",
    "        self.biases.append(np.zeros(10))\n",
    "            \n",
    "    def fit(self, x, y, lr, epoch, optimizer):\n",
    "        \n",
    "        def backprop(self, x, y):\n",
    "            z = {}\n",
    "            a = {1: x}  \n",
    "\n",
    "            for i in range(1, self.numOfHiddenLayers):\n",
    "                z[i + 1] = np.dot(a[i], self.weights[i]) + self.biases[i]\n",
    "                a[i + 1] = self.aFunc[i + 1](z[i + 1])\n",
    "\n",
    "            delta = self.cost_derivative(a[-1], y) * MISC.softmax_derivative(z[-1])\n",
    "            dw = np.dot(a[self.numOfHiddenLayers - 1].T, delta)\n",
    "        \n",
    "            update_params = {\n",
    "                self.numOfHiddenLayers - 1: (dw, delta)\n",
    "            }\n",
    "\n",
    "            for i in reversed(range(2, self.numOfHiddenLayers)):\n",
    "                dr = None\n",
    "                if (self.aFunc[i].equals(\"Relu\")): dr = MISC.relu_derivative(z[i])\n",
    "                elif (self.aFunc[i].equals(\"Sigmoid\")): dr = MISC.sigmoid_derivative(z[i])\n",
    "                else: dr = MISC.tanh_derivative(z[i])\n",
    "                delta = np.dot(delta, self.weights[i].T) * dr\n",
    "                dw = np.dot(a[i - 1].T, delta)\n",
    "                update_params[i - 1] = (dw, delta)\n",
    "\t\n",
    "            # for k, v in update_params.items():\n",
    "            #     self._update_w_b(k, v[0], v[1])\n",
    "\n",
    "\n",
    "        def gradient(x, y, params):\n",
    "           \n",
    "            return None\n",
    "              \n",
    "        params0 = []\n",
    "        self.params = optimizer.run(gradient, x, y, params0)\n",
    "        return self\n",
    "            \n",
    "    def predict(self, x):\n",
    "        z = x\n",
    "        for v in self.params[:-1]:\n",
    "            z = self.aFunc(np.dot(x, v)) #N x M\n",
    "            x = z\n",
    "        yh = softmax(np.dot(z, self.params[-1]))#N\n",
    "        return yh    "
   ]
  },
  {
   "attachments": {},
   "cell_type": "markdown",
   "metadata": {},
   "source": [
    "GradientDescent Algorithm"
   ]
  },
  {
   "cell_type": "code",
   "execution_count": null,
   "metadata": {},
   "outputs": [],
   "source": [
    "class GradientDescent:\n",
    "    \n",
    "    def __init__(self, learning_rate=.001, batch_size=16, max_iters=1e4, epsilon=1e-8):\n",
    "        self.learning_rate = learning_rate\n",
    "        self.max_iters = max_iters\n",
    "        self.epsilon = epsilon\n",
    "        self.batch_size = batch_size\n",
    "        \n",
    "    def run(self, gradient_fn, x, y, params):\n",
    "        m = x.shape\n",
    "        num_batches = m[0] // self.batch_size\n",
    "        norms = np.array([np.inf])\n",
    "        t = 1\n",
    "        while np.any(norms > self.epsilon) and t < self.max_iters:\n",
    "            permutation = np.random.permutation(m[1])\n",
    "            x_shuffle = x[:, permutation]\n",
    "            y_shuffle = y[:, permutation]\n",
    "            \n",
    "            for a in range(num_batches):\n",
    "                start = a * self.batch_size\n",
    "                end = start + self.batch_size\n",
    "                x_batch = x_shuffle[start:end,:]\n",
    "                y_batch = y_shuffle[start:end,:]\n",
    "\n",
    "                # Compute the gradient \n",
    "                grad = gradient_fn(x_batch, y_batch, params)\n",
    "                for p in range(len(params)):\n",
    "                    params[p] -= self.learning_rate * grad[p]\n",
    "                norms = np.array([np.linalg.norm(g) for g in grad])\n",
    "            t += 1\n",
    "        return params"
   ]
  }
 ],
 "metadata": {
  "kernelspec": {
   "display_name": "Python 3",
   "language": "python",
   "name": "python3"
  },
  "language_info": {
   "codemirror_mode": {
    "name": "ipython",
    "version": 3
   },
   "file_extension": ".py",
   "mimetype": "text/x-python",
   "name": "python",
   "nbconvert_exporter": "python",
   "pygments_lexer": "ipython3",
   "version": "3.9.6"
  },
  "orig_nbformat": 4,
  "vscode": {
   "interpreter": {
    "hash": "aee8b7b246df8f9039afb4144a1f6fd8d2ca17a180786b69acc140d282b71a49"
   }
  }
 },
 "nbformat": 4,
 "nbformat_minor": 2
}
