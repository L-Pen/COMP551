{
 "cells": [
  {
   "cell_type": "code",
   "execution_count": 118,
   "metadata": {},
   "outputs": [],
   "source": [
    "import pandas as pd\n",
    "import numpy as np\n",
    "import matplotlib.pyplot as plt\n",
    "from scipy.special import beta       \n",
    "import seaborn as sns\n",
    "import random\n",
    "from sklearn.model_selection import train_test_split\n",
    "from keras.datasets import cifar10"
   ]
  },
  {
   "attachments": {},
   "cell_type": "markdown",
   "metadata": {},
   "source": [
    "Getting dataset from the files"
   ]
  },
  {
   "cell_type": "code",
   "execution_count": 119,
   "metadata": {},
   "outputs": [],
   "source": [
    "\n",
    "def unpickle(file):\n",
    "    import pickle\n",
    "    with open(file, 'rb') as fo:\n",
    "        dict = pickle.load(fo, encoding='latin1')\n",
    "    return dict\n",
    "\n",
    "def NormalizeData(X):\n",
    "    X = X.astype('float64')\n",
    "    X /= np.std(X, axis = 0)\n",
    "    # X /=255\n",
    "    return X\n",
    "(X_train, y_train), (X_test, y_test) = cifar10.load_data()\n",
    "X_train = np.reshape(X_train,(50000,3072))\n",
    "X_test = np.reshape(X_test,(10000,3072))\n",
    "X_train_unnormalized  =  X_train\n",
    "X_test_unnormalized  =  X_test\n",
    "X_train = NormalizeData(X_train)\n",
    "X_test =  NormalizeData(X_test)\n",
    "batches =  []\n",
    "batches.append(unpickle(\"data_batch_1\"))\n",
    "batches.append(unpickle(\"data_batch_2\"))\n",
    "batches.append(unpickle(\"data_batch_3\"))\n",
    "batches.append(unpickle(\"data_batch_4\"))\n",
    "batches.append(unpickle(\"data_batch_5\"))\n",
    "\n",
    "features = []\n",
    "labels = []\n",
    "for batch in batches:\n",
    "    features.append(np.array(batch['data'].reshape((len(batch['data']), 3, 32, 32)).transpose(0, 2, 3, 1)))\n",
    "    labels.append(batch['labels'])\n",
    "for feat in features:\n",
    "    feat = NormalizeData(feat[:])\n",
    "for lab in labels:\n",
    "    maxval = np.max(lab)\n",
    "    lab = np.eye(maxval+1)[lab]"
   ]
  },
  {
   "cell_type": "code",
   "execution_count": 120,
   "metadata": {},
   "outputs": [],
   "source": [
    "\n",
    "def cost_derivative(aFunc, y):\n",
    "    derivative = aFunc - y\n",
    "    return derivative\n",
    "\n",
    "def sigmoid(z):\n",
    "    return 1.0/(1.0+np.exp(-z))\n",
    "\n",
    "def sigmoid_derivative(z):\n",
    "    return sigmoid(z)*(1-sigmoid(z))\n",
    "\n",
    "def relu(z):\n",
    "    return np.maximum(0,z)\n",
    "\n",
    "def relu_derivative(z):\n",
    "    z[z<=0] = 0\n",
    "    z[z>0] = 1\n",
    "    return z\n",
    "\n",
    "def tanh(z):\n",
    "    return (np.exp(z) - np.exp(-z)) / (np.exp(z) + np.exp(-z))\n",
    "\n",
    "def tanh_derivative(z):\n",
    "    return 1 - np.power(tanh(z), 2)\n",
    "\n",
    "def softmax(x):\n",
    "    e = np.exp(x-np.max(x))\n",
    "    s = np.sum(e, axis=1, keepdims=True)\n",
    "    return e/s   \n",
    "\n",
    "def softmax_derivative(z):\n",
    "    return softmax(z)*softmax(1-z)\n",
    "\n",
    "\n",
    "def stringToFunc(stringAFunc, x):\n",
    "    if (stringAFunc == \"Relu\"): return relu(x)\n",
    "    elif (stringAFunc == \"Leaky-ReLU\"): return leaky_relu(x)\n",
    "    elif (stringAFunc == \"Sigmoid\"): return sigmoid(x)\n",
    "    elif (stringAFunc == \"tanh\"): return tanh(x)\n",
    "    else: return softmax(x)\n",
    "\n",
    "def stringToFuncDer(stringAFunc, x):\n",
    "    if (stringAFunc == \"Relu\"): return relu_derivative(x)\n",
    "    elif (stringAFunc == \"Leaky-ReLU\"): return leaky_relu_derivative(x)\n",
    "    elif (stringAFunc == \"Sigmoid\"): return sigmoid_derivative(x)\n",
    "    elif (stringAFunc == \"tanh\"): return tanh_derivative(x)\n",
    "    else: return softmax_derivative(x)\n",
    "\n",
    "def leaky_relu(x, alpha = 0.01):\n",
    "    return np.maximum(alpha * x, x)\n",
    "\n",
    "def leaky_relu_derivative(x, alpha = 0.01):\n",
    "    dx = np.ones_like(x)\n",
    "    dx[x < 0] = alpha\n",
    "    return dx\n",
    "\n"
   ]
  },
  {
   "attachments": {},
   "cell_type": "markdown",
   "metadata": {},
   "source": [
    "Multilayer perceptron algorithm:"
   ]
  },
  {
   "cell_type": "code",
   "execution_count": 131,
   "metadata": {},
   "outputs": [],
   "source": [
    "class MLP:\n",
    "    \n",
    "    def __init__(self, aFunc, numOfHiddenLayers, numOfHiddenUnits, dimension):\n",
    "        self.aFunc = aFunc\n",
    "        self.numOfHiddenLayers = numOfHiddenLayers\n",
    "        self.numOfHiddenUnits = numOfHiddenUnits\n",
    "        self.dimension = dimension\n",
    "        self.weights = {}\n",
    "        self.biases = {}\n",
    "\n",
    "        for i in range(len(dimension)-1):\n",
    "            self.weights[i + 1] = np.random.randn(dimension[i], dimension[i + 1])\n",
    "            self.biases[i + 1] = np.zeros(dimension[i + 1])\n",
    "            \n",
    "        # i = 1\n",
    "        # # Initialize weights and biases for hidden layers\n",
    "        # for i in range(self.numOfHiddenLayers):\n",
    "        #     self.weights[i + 1] = (np.random.randn(self.numOfHiddenUnits[i], self.numOfHiddenUnits[i-1]))\n",
    "        #     self.biases[i + 1] = (np.zeros(self.numOfHiddenUnits[i]))\n",
    "        \n",
    "        # # Initialize weights and biases for output layer\n",
    "        # self.weights[i + 1] = np.random.randn(10, self.numOfHiddenUnits[-1])\n",
    "        # self.biases[i + 1] = np.zeros(10)\n",
    "        \n",
    "            \n",
    "    def fit(self, x, y, optimizer):\n",
    "        \n",
    "        def backprop(self, Mlp, x, y):\n",
    "            z = {}\n",
    "            a = {1: x}  \n",
    "            \n",
    "            for i in range(1, Mlp.numOfHiddenLayers + 2):\n",
    "                z[i + 1] = np.dot(a[i], Mlp.weights[i]) + Mlp.biases[i]\n",
    "                a[i + 1] = stringToFunc(Mlp.aFunc[i-1], z[i + 1])\n",
    "            last = len(a)\n",
    "            delta = cost_derivative(a[last], y) * softmax_derivative(a[last]) \n",
    "            dw = np.dot(a[Mlp.numOfHiddenLayers + 1].T, delta)\n",
    "        \n",
    "            update_params = {\n",
    "                 self.numOfHiddenLayers + 1: (dw, delta)\n",
    "            }\n",
    "\n",
    "            for i in reversed(range(2, Mlp.numOfHiddenLayers + 2)):\n",
    "                dr = stringToFuncDer(Mlp.aFunc[i-2], z[i]) \n",
    "                delta = np.dot(delta, Mlp.weights[i].T) * dr\n",
    "                dw = np.dot(a[i - 1].T, delta)\n",
    "                update_params[i - 1] = (dw, delta)\n",
    "\n",
    "            return update_params\n",
    "\n",
    "\n",
    "        self = optimizer.run(self,backprop, x, y)\n",
    "        return self\n",
    "            \n",
    "    def predict(self, x):\n",
    "        z = {}\n",
    "        a = {1: x}  \n",
    "        \n",
    "        for i in range(1, self.numOfHiddenLayers + 2):\n",
    "            z[i + 1] = np.dot(a[i], self.weights[i]) + self.biases[i]\n",
    "            a[i + 1] = stringToFunc(self.aFunc[i-1], z[i + 1])\n",
    "        return np.argmax(a[self.numOfHiddenLayers+2],axis=1)"
   ]
  },
  {
   "attachments": {},
   "cell_type": "markdown",
   "metadata": {},
   "source": [
    "GradientDescent Algorithm"
   ]
  },
  {
   "cell_type": "code",
   "execution_count": 130,
   "metadata": {},
   "outputs": [],
   "source": [
    "class GradientDescent:\n",
    "    \n",
    "    def __init__(self, learning_rate=.001, batch_size=16, max_iters=5, epsilon=1e-8, numOfHiddenLayers=0, lam = 0, regularization = None):\n",
    "        self.numOfHiddenLayers = numOfHiddenLayers\n",
    "        self.learning_rate = learning_rate\n",
    "        self.max_iters = max_iters\n",
    "        self.epsilon = epsilon\n",
    "        self.batch_size = batch_size\n",
    "        self.lam = lam\n",
    "        self.regularization = regularization\n",
    "        \n",
    "    def run(self, mlp,gradient_fn, x, y):\n",
    "        m = x.shape\n",
    "        num_batches = m[0] // self.batch_size\n",
    "        norms = np.array([np.inf])\n",
    "        t = 0\n",
    "        while np.any(norms > self.epsilon) and t < self.max_iters:\n",
    "            #permutation = np.random.permutation(len(x))\n",
    "            x_shuffle = x#[permutation]\n",
    "            y_shuffle = y#[permutation]\n",
    "            \n",
    "            for a in range(num_batches):\n",
    "                start = a * self.batch_size\n",
    "                end = start + self.batch_size\n",
    "                x_batch = x_shuffle[start:end:]\n",
    "                y_batch = y_shuffle[start:end:]\n",
    "\n",
    "                # Compute the gradient \n",
    "                grad = gradient_fn(self,mlp,x_batch, y_batch)\n",
    "                for k, v in grad.items():\n",
    "                    dw = v[0]\n",
    "                    if self.regularization == \"l1\":\n",
    "                        dw += (self.lam) * mlp.weights[k] \n",
    "                    elif self.regularization == \"l2\":\n",
    "                        dw += (self.lam) * np.sign(mlp.weights[k])\n",
    "                    mlp.weights[k] -= self.learning_rate * dw\n",
    "                    mlp.biases[k] -= self.learning_rate * np.mean(v[1], 0)\n",
    "                # for p in range(len(params)):\n",
    "                #     params[p] -= self.learning_rate * grad[p]\n",
    "                # norms = np.array([np.linalg.norm(g) for g in grad])\n",
    "            t += 1\n",
    "        return mlp"
   ]
  },
  {
   "attachments": {},
   "cell_type": "markdown",
   "metadata": {},
   "source": [
    "Experiment 1: \n",
    "First of all, create three different models: (1) an MLP with no hidden layers, i.e., it directly maps the inputs\n",
    "to outputs, (2) an MLP with a single hidden layer having 256 units and ReLU activations, (3) an MLP with 2\n",
    "hidden layers each having 256 units with ReLU activations. It should be noted that since we want to perform\n",
    "classification, all of these models should have a softmax layer at the end. After training, compare the test\n",
    "accuracy of these three models on the CIFAR-10 dataset. Comment on how non-linearity and network depth\n",
    "affects the accuracy. Are the results that you obtain expected?"
   ]
  },
  {
   "cell_type": "code",
   "execution_count": 123,
   "metadata": {},
   "outputs": [
    {
     "name": "stderr",
     "output_type": "stream",
     "text": [
      "/var/folders/b5/ct06m_093mj2jmq58ft3jbq00000gn/T/ipykernel_76493/605528332.py:28: RuntimeWarning: invalid value encountered in divide\n",
      "  return e/s\n"
     ]
    },
    {
     "name": "stdout",
     "output_type": "stream",
     "text": [
      "Accuracy on test data no layer 0.1\n",
      "Accuracy on test data one layer 0.1082\n",
      "Accuracy on test data two layer 0.1036\n"
     ]
    }
   ],
   "source": [
    "#no hidden layers\n",
    "no_hidden = MLP((\"softmax\", ),0,(0,), (3072,10))\n",
    "optimizer = GradientDescent(numOfHiddenLayers=0)\n",
    "fit_no_hidden = no_hidden.fit(X_train,y_train, optimizer)\n",
    "no_hidden_yh = fit_no_hidden.predict(X_test)\n",
    "#one layer\n",
    "optimizer = GradientDescent(numOfHiddenLayers=1)\n",
    "single_layer=  MLP((\"relu\", \"softmax\"),1,(256,),(3072,256,10))\n",
    "fit_single_layer = single_layer.fit(X_train,y_train, optimizer)\n",
    "single_yh = fit_single_layer.predict(X_test)\n",
    "#two layers\n",
    "optimizer = GradientDescent(numOfHiddenLayers=2)\n",
    "two_layers = MLP((\"relu\", \"relu\", \"softmax\"),2,(256,256),(3072,256,256,10))\n",
    "fit_two_layers = two_layers.fit(X_train,y_train, optimizer)\n",
    "two_yh = fit_two_layers.predict(X_test)\n",
    "def evaluate_acc (True_label,Predicted_label):\n",
    "    return np.sum(True_label == Predicted_label)/Predicted_label.shape[0]\n",
    "print(\"Accuracy on test data no layer\", evaluate_acc(y_test,no_hidden_yh.reshape(10000,1)))\n",
    "print(\"Accuracy on test data one layer\", evaluate_acc(y_test,single_yh.reshape(10000,1)))\n",
    "print(\"Accuracy on test data two layer\", evaluate_acc(y_test,two_yh.reshape(10000,1)))"
   ]
  },
  {
   "attachments": {},
   "cell_type": "markdown",
   "metadata": {},
   "source": [
    "Experiment 2:\n",
    " Take the last model above, the one with 2 hidden layers, and create two different copies of it in which the\n",
    "activations are now tanh and Leaky-ReLU. After training these two models compare their test accuracies with\n",
    "model having ReLU activations. Comment on the performances of these models: which one is better and why?\n",
    "Are certain activations better than others? If the results are not as you expected, what could be the reason?"
   ]
  },
  {
   "cell_type": "code",
   "execution_count": 124,
   "metadata": {},
   "outputs": [
    {
     "name": "stderr",
     "output_type": "stream",
     "text": [
      "/var/folders/b5/ct06m_093mj2jmq58ft3jbq00000gn/T/ipykernel_76493/605528332.py:20: RuntimeWarning: overflow encountered in exp\n",
      "  return (np.exp(z) - np.exp(-z)) / (np.exp(z) + np.exp(-z))\n",
      "/var/folders/b5/ct06m_093mj2jmq58ft3jbq00000gn/T/ipykernel_76493/605528332.py:20: RuntimeWarning: invalid value encountered in divide\n",
      "  return (np.exp(z) - np.exp(-z)) / (np.exp(z) + np.exp(-z))\n",
      "/var/folders/b5/ct06m_093mj2jmq58ft3jbq00000gn/T/ipykernel_76493/605528332.py:28: RuntimeWarning: invalid value encountered in divide\n",
      "  return e/s\n"
     ]
    },
    {
     "name": "stdout",
     "output_type": "stream",
     "text": [
      "Accuracy on test data tanh 0.1\n",
      "Accuracy on test dataleaky-relu 0.1\n"
     ]
    }
   ],
   "source": [
    "optimizer = GradientDescent(numOfHiddenLayers=2)\n",
    "#TANH\n",
    "two_tanh = MLP((\"tanh\", \"tanh\", \"softmax\"),2,(256,256),(3072,256,256,10))\n",
    "fit_two_tanh = two_tanh.fit(X_train,y_train, optimizer)\n",
    "two_tanh_yh = fit_two_tanh.predict(X_test)\n",
    "#Leaky-Relu\n",
    "two_lrelu= MLP((\"Leaky-ReLU\", \"Leaky-ReLU\", \"softmax\"),2,(256,256),(3072,256,256,10))\n",
    "fit_two_lrelu = two_lrelu.fit(X_train,y_train, optimizer)\n",
    "two_lrelu_yh = fit_two_lrelu.predict(X_test)\n",
    "print(\"Accuracy on test data tanh\", evaluate_acc(y_test,two_lrelu_yh.reshape(10000,1)))\n",
    "print(\"Accuracy on test dataleaky-relu\", evaluate_acc(y_test,two_tanh_yh.reshape(10000,1)))"
   ]
  },
  {
   "attachments": {},
   "cell_type": "markdown",
   "metadata": {},
   "source": [
    "Experiment 3:\n",
    "Create an MLP with 2 hidden layers each having 256 units with ReLU activations as above. However, this\n",
    "time, independently add L1 and L2 regularization to the network and train the MLP in this way. How does\n",
    "these regularizations affect the accuracy? This proportion can be varied as a tunable hyperparameter that can be\n",
    "explored as part of other project requirements."
   ]
  },
  {
   "cell_type": "code",
   "execution_count": 132,
   "metadata": {},
   "outputs": [
    {
     "name": "stdout",
     "output_type": "stream",
     "text": [
      "Accuracy on test data reg L1 0.1\n",
      "Accuracy on test data reg L2 0.1\n"
     ]
    }
   ],
   "source": [
    "#L1 regularization\n",
    "optimizer = GradientDescent(numOfHiddenLayers=2, lam = 0.3, regularization=\"l1\")\n",
    "two_layers = MLP((\"relu\", \"relu\", \"softmax\"),2,(256,256),(3072,256,256,10))\n",
    "fit_two_layers = two_layers.fit(X_train,y_train, optimizer)\n",
    "yh_l1 = fit_two_layers.predict(X_test)\n",
    "\n",
    "#L2 Regularization\n",
    "optimizer = GradientDescent(numOfHiddenLayers=2, lam = 0.3, regularization=\"l2\")\n",
    "two_layers = MLP((\"relu\", \"relu\", \"softmax\"),2,(256,256),(3072,256,256,10))\n",
    "fit_two_layers = two_layers.fit(X_train,y_train, optimizer)\n",
    "yh_l2 = fit_two_layers.predict(X_test)\n",
    "print(\"Accuracy on test data reg L1\", evaluate_acc(y_test,yh_l1.reshape(10000,1)))\n",
    "print(\"Accuracy on test data reg L2\", evaluate_acc(y_test,yh_l2.reshape(10000,1)))"
   ]
  },
  {
   "attachments": {},
   "cell_type": "markdown",
   "metadata": {},
   "source": [
    "Experiment 4:\n",
    "Create an MLP with 2 hidden layers each having 256 units with ReLU activations as above. However, this time,\n",
    "train it with unnormalized images. How does this affect the accuracy?"
   ]
  },
  {
   "cell_type": "code",
   "execution_count": 126,
   "metadata": {},
   "outputs": [
    {
     "name": "stderr",
     "output_type": "stream",
     "text": [
      "/var/folders/b5/ct06m_093mj2jmq58ft3jbq00000gn/T/ipykernel_76493/605528332.py:28: RuntimeWarning: invalid value encountered in divide\n",
      "  return e/s\n"
     ]
    },
    {
     "name": "stdout",
     "output_type": "stream",
     "text": [
      "Accuracy on test data one layer 0.1\n"
     ]
    }
   ],
   "source": [
    "optimizer_u = GradientDescent(numOfHiddenLayers=2)\n",
    "two_layers_u = MLP((\"relu\", \"relu\", \"softmax\"),2,(256,256),(3072,256,256,10))\n",
    "two_relu_u = two_layers_u.fit(X_train_unnormalized,y_train, optimizer_u)\n",
    "two_relu_u_yh = two_relu_u.predict(X_test_unnormalized)\n",
    "print(\"Accuracy on test data one layer\", evaluate_acc(y_test,two_relu_u_yh.reshape(10000,1)))"
   ]
  },
  {
   "attachments": {},
   "cell_type": "markdown",
   "metadata": {},
   "source": [
    "Experiment 5:\n",
    "Using existing libraries such as TensorFlow or PyTorch, create a convolutional neural network (CNN) with 2\n",
    "convolutional and 2 fully connected layers. Although you are free in your choice of the hyperparameters of the\n",
    "convolutional layers, set the number of units in the fully connected layers to be 256. Also, set the activations in\n",
    "all of the layers to be ReLU. Train this CNN on the CIFAR-10 dataset. Does using a CNN increase/decrease the\n",
    "accuracy compared to using MLPs? Provide comments on your results."
   ]
  },
  {
   "cell_type": "code",
   "execution_count": 127,
   "metadata": {},
   "outputs": [
    {
     "name": "stdout",
     "output_type": "stream",
     "text": [
      "Epoch 1/5\n",
      "500/500 [==============================] - 55s 107ms/step - loss: 1.5061 - accuracy: 0.4523 - val_loss: 1.2402 - val_accuracy: 0.5513\n",
      "Epoch 2/5\n",
      "500/500 [==============================] - 56s 111ms/step - loss: 1.1259 - accuracy: 0.5997 - val_loss: 1.0796 - val_accuracy: 0.6141\n",
      "Epoch 3/5\n",
      "500/500 [==============================] - 49s 99ms/step - loss: 0.9695 - accuracy: 0.6581 - val_loss: 0.9931 - val_accuracy: 0.6479\n",
      "Epoch 4/5\n",
      "500/500 [==============================] - 46s 92ms/step - loss: 0.8504 - accuracy: 0.7018 - val_loss: 0.9400 - val_accuracy: 0.6715\n",
      "Epoch 5/5\n",
      "500/500 [==============================] - 40s 80ms/step - loss: 0.7509 - accuracy: 0.7377 - val_loss: 0.9060 - val_accuracy: 0.6860\n",
      "100/100 [==============================] - 2s 20ms/step - loss: 0.9060 - accuracy: 0.6860\n",
      "Test accuracy: 0.6859999895095825\n"
     ]
    }
   ],
   "source": [
    "import tensorflow as tf\n",
    "from tensorflow import keras\n",
    "from keras import layers\n",
    "from keras.datasets import cifar10\n",
    "\n",
    "# Define the hyperparameters\n",
    "num_epochs = 5\n",
    "batch_size = 100\n",
    "learning_rate = 0.001\n",
    "\n",
    "# Load the CIFAR-10 dataset\n",
    "(x_train, y_train), (x_test, y_test) = cifar10.load_data()\n",
    "x_train = x_train.astype(\"float32\") / 255.0\n",
    "x_test = x_test.astype(\"float32\") / 255.0\n",
    "y_train = keras.utils.to_categorical(y_train, 10)\n",
    "y_test = keras.utils.to_categorical(y_test, 10)\n",
    "\n",
    "# Define the CNN\n",
    "cnn_model = keras.Sequential(\n",
    "    [\n",
    "        layers.Conv2D(16, (5, 5), padding=\"same\", activation=\"relu\", input_shape=(32, 32, 3)),\n",
    "        layers.MaxPooling2D(pool_size=(2, 2)),\n",
    "        layers.Conv2D(32, (5, 5), padding=\"same\", activation=\"relu\"),\n",
    "        layers.MaxPooling2D(pool_size=(2, 2)),\n",
    "        layers.Flatten(),\n",
    "        layers.Dense(256, activation=\"relu\"),\n",
    "        layers.Dense(256, activation=\"relu\"),\n",
    "        layers.Dense(10),\n",
    "    ]\n",
    ")\n",
    "\n",
    "# Compile the model\n",
    "cnn_model.compile(optimizer=keras.optimizers.Adam(learning_rate),\n",
    "              loss=keras.losses.CategoricalCrossentropy(from_logits=True),\n",
    "              metrics=[\"accuracy\"])\n",
    "\n",
    "# Train the model\n",
    "cnn_history  = cnn_model.fit(x_train, y_train, epochs=num_epochs, batch_size=batch_size, validation_data=(x_test, y_test))\n",
    "\n",
    "# Evaluate the model\n",
    "test_loss, test_acc = cnn_model.evaluate(x_test, y_test, batch_size=batch_size)\n",
    "print(\"Test accuracy:\", test_acc)\n"
   ]
  },
  {
   "attachments": {},
   "cell_type": "markdown",
   "metadata": {},
   "source": [
    "Experiment 6:\n",
    "Load a pre-trained model that you see fit (e.g., a ResNet) using existing libraries such as TensorFlow or PyTorch,\n",
    "and then freeze all the convolutional layers and remove all the fully connected ones. Add a number of fully\n",
    "connected layers of your choice right after the convolutional layers. Train only the fully connected layers of the\n",
    "pre-trained model on the CIFAR-10 dataset. How does this pre-trained model compare to the best MLP in part\n",
    "1 and to the regular CNN in part 5 in terms of the accuracy? How does it compare to the previous models in\n",
    "terms of the required training time? Justify your choice of how many fully connected layers that you have added\n",
    "to the pre-trained model through careful experiments."
   ]
  },
  {
   "cell_type": "code",
   "execution_count": 133,
   "metadata": {},
   "outputs": [
    {
     "name": "stdout",
     "output_type": "stream",
     "text": [
      "1563/1563 [==============================] - 1605s 1s/step - loss: 1.5043 - accuracy: 0.4748 - val_loss: 1.2662 - val_accuracy: 0.5609\n",
      "313/313 [==============================] - 28s 90ms/step - loss: 1.2662 - accuracy: 0.5609\n",
      "Test accuracy: 0.5608999729156494\n"
     ]
    }
   ],
   "source": [
    "import tensorflow as tf\n",
    "from keras.layers import Dense, Flatten\n",
    "from keras.models import Model\n",
    "from keras.applications import ResNet50\n",
    "\n",
    "# Load the CIFAR-10 dataset\n",
    "(x_train, y_train), (x_test, y_test) = cifar10.load_data()\n",
    "x_train = x_train.astype(\"float32\") / 255.0\n",
    "x_test = x_test.astype(\"float32\") / 255.0\n",
    "\n",
    "# Load the pre-trained ResNet50 model\n",
    "base_model = ResNet50(include_top=False, weights=\"imagenet\", input_shape=(32, 32, 3))\n",
    "\n",
    "# Freeze all the convolutional layers\n",
    "for layer in base_model.layers:\n",
    "    if isinstance(layer, tf.keras.layers.Conv2D):\n",
    "        layer.trainable = False\n",
    "\n",
    "# Remove all the fully connected layers\n",
    "x = Flatten()(base_model.output)\n",
    "\n",
    "# Add your own fully connected layers\n",
    "x = Dense(512, activation=\"relu\")(x)\n",
    "x = Dense(256, activation=\"relu\")(x)\n",
    "x = Dense(10, activation=\"softmax\")(x)\n",
    "\n",
    "# Create a new model with your own fully connected layers\n",
    "model = Model(inputs=base_model.input, outputs=x)\n",
    "\n",
    "# Compile the model\n",
    "model.compile(optimizer=\"adam\", loss=\"sparse_categorical_crossentropy\", metrics=[\"accuracy\"])\n",
    "\n",
    "# Train only the fully connected layers of the pre-trained model\n",
    "pretrained_history = model.fit(x_train, y_train, epochs=1, batch_size=32, validation_data=(x_test, y_test))\n",
    "# Evaluate the model on the test data\n",
    "test_loss, test_acc = model.evaluate(x_test, y_test)\n",
    "print(\"Test accuracy:\", test_acc)"
   ]
  },
  {
   "attachments": {},
   "cell_type": "markdown",
   "metadata": {},
   "source": [
    "Experiment 7:\n",
    "You can report your findings either in the form of a table or a plot in the write-up. However, include in your\n",
    "colab notebooks the plots of the test and train performance of the MLPs / CNN / pre-trained model as a function\n",
    "of training epochs. This will allow you to see how much the network should be trained before it starts to overfit\n",
    "to the training data."
   ]
  },
  {
   "cell_type": "code",
   "execution_count": 134,
   "metadata": {},
   "outputs": [
    {
     "data": {
      "image/png": "[encoded data removed]",
      "text/plain": [
       "<Figure size 640x480 with 1 Axes>"
      ]
     },
     "metadata": {},
     "output_type": "display_data"
    },
    {
     "data": {
      "image/png": "[encoded data removed]",
      "text/plain": [
       "<Figure size 640x480 with 1 Axes>"
      ]
     },
     "metadata": {},
     "output_type": "display_data"
    }
   ],
   "source": [
    "# Plot the train and test accuracy of the CNN and pre-trained models\n",
    "plt.plot(cnn_history.history['accuracy'], label='CNN Train Accuracy')\n",
    "plt.plot(pretrained_history.history['accuracy'], label='Pre-trained Train Accuracy')\n",
    "plt.plot(cnn_history.history['val_accuracy'], label='CNN Test Accuracy')\n",
    "plt.plot(pretrained_history.history['val_accuracy'], label='Pre-trained Test Accuracy')\n",
    "plt.title('Model Accuracy')\n",
    "plt.xlabel('Epoch')\n",
    "plt.ylabel('Accuracy')\n",
    "plt.legend(loc='lower right')\n",
    "plt.show()\n",
    "\n",
    "# Plot the train and test loss of the CNN and pre-trained models\n",
    "plt.plot(cnn_history.history['loss'], label='CNN Train Loss')\n",
    "plt.plot(pretrained_history.history['loss'], label='Pre-trained Train Loss')\n",
    "plt.plot(cnn_history.history['val_loss'], label='CNN Test Loss')\n",
    "plt.plot(pretrained_history.history['val_loss'], label='Pre-trained Test Loss')\n",
    "plt.title('Model Loss')\n",
    "plt.xlabel('Epoch')\n",
    "plt.ylabel('Loss')\n",
    "plt.legend(loc='upper right')\n",
    "plt.show()"
   ]
  },
  {
   "attachments": {},
   "cell_type": "markdown",
   "metadata": {},
   "source": [
    "Extra test 1:\n",
    "Changing number of units in the hidden layer.\n",
    "First example has 128 units and second has 512. They both use Relu and two layers"
   ]
  },
  {
   "cell_type": "code",
   "execution_count": 135,
   "metadata": {},
   "outputs": [
    {
     "name": "stderr",
     "output_type": "stream",
     "text": [
      "/var/folders/b5/ct06m_093mj2jmq58ft3jbq00000gn/T/ipykernel_76493/605528332.py:28: RuntimeWarning: invalid value encountered in divide\n",
      "  return e/s\n"
     ]
    },
    {
     "name": "stdout",
     "output_type": "stream",
     "text": [
      "Accuracy on test data 128 units 0.1001\n",
      "Accuracy on test data 512 units 0.1\n",
      "Accuracy on test data 256 units 0.1001\n"
     ]
    }
   ],
   "source": [
    "(X_train, y_train), (X_test, y_test) = cifar10.load_data()\n",
    "X_train = np.reshape(X_train,(50000,3072))\n",
    "X_test = np.reshape(X_test,(10000,3072))\n",
    "X_train = NormalizeData(X_train)\n",
    "X_test =  NormalizeData(X_test)\n",
    "optimizer = GradientDescent(numOfHiddenLayers=2)\n",
    "#128 units\n",
    "mlp_128 = MLP((\"relu\", \"relu\", \"softmax\"),2,(128,128),(3072,128,128,10))\n",
    "fit_mlp_128 = mlp_128.fit(X_train,y_train, optimizer)\n",
    "mlp_128_yh = fit_mlp_128.predict(X_test)\n",
    "#512 units\n",
    "mlp_512 = MLP((\"relu\", \"relu\", \"softmax\"),2,(512,512),(3072,512,512,10))\n",
    "fit_mlp_512 = mlp_512.fit(X_train,y_train, optimizer)\n",
    "mlp_512_yh = fit_mlp_512.predict(X_test)\n",
    "print(\"Accuracy on test data 128 units\", evaluate_acc(y_test,mlp_128_yh.reshape(10000,1)))\n",
    "print(\"Accuracy on test data 512 units\", evaluate_acc(y_test,mlp_512_yh.reshape(10000,1)))\n",
    "print(\"Accuracy on test data 256 units\", evaluate_acc(y_test,mlp_128_yh.reshape(10000,1)))\n"
   ]
  }
 ],
 "metadata": {
  "kernelspec": {
   "display_name": "Python 3",
   "language": "python",
   "name": "python3"
  },
  "language_info": {
   "codemirror_mode": {
    "name": "ipython",
    "version": 3
   },
   "file_extension": ".py",
   "mimetype": "text/x-python",
   "name": "python",
   "nbconvert_exporter": "python",
   "pygments_lexer": "ipython3",
   "version": "3.10.0"
  },
  "orig_nbformat": 4,
  "vscode": {
   "interpreter": {
    "hash": "aee8b7b246df8f9039afb4144a1f6fd8d2ca17a180786b69acc140d282b71a49"
   }
  }
 },
 "nbformat": 4,
 "nbformat_minor": 2
}
