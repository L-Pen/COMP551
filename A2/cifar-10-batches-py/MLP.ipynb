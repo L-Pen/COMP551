{
 "cells": [
  {
   "cell_type": "code",
   "execution_count": 6,
   "metadata": {},
   "outputs": [],
   "source": [
    "import pandas as pd\n",
    "import numpy as np\n",
    "import matplotlib.pyplot as plt\n",
    "from scipy.special import beta       \n",
    "import seaborn as sns\n",
    "import random\n",
    "from sklearn.model_selection import train_test_split"
   ]
  },
  {
   "attachments": {},
   "cell_type": "markdown",
   "metadata": {},
   "source": [
    "Getting dataset from the files"
   ]
  },
  {
   "cell_type": "code",
   "execution_count": 7,
   "metadata": {},
   "outputs": [],
   "source": [
    "def unpickle(file):\n",
    "    import pickle\n",
    "    with open(file, 'rb') as fo:\n",
    "        dict = pickle.load(fo, encoding='latin1')\n",
    "        # X=datadict['data'].reshape((len(datadict['data']), 3, 32, 32)).transpose(0, 2, 3, 1)\n",
    "        # dict_new=dict['data'].reshape((len(dict['data']), 3, 32, 32)).transpose(0, 2, 3, 1)\n",
    "    return dict\n",
    "\n",
    "def NormalizeData(X):\n",
    "    X = X.astype('float64')\n",
    "    X /= np.std(X, axis = 0)\n",
    "    return X\n",
    "batches =  []\n",
    "batches.append(unpickle(\"data_batch_1\"))\n",
    "batches.append(unpickle(\"data_batch_2\"))\n",
    "batches.append(unpickle(\"data_batch_3\"))\n",
    "batches.append(unpickle(\"data_batch_4\"))\n",
    "batches.append(unpickle(\"data_batch_5\"))\n",
    "# batch_test = unpickle(\"test_batch\")\n",
    "# batch_meta = unpickle(\"batches.meta\")\n",
    "features = []\n",
    "labels = []\n",
    "for batch in batches:\n",
    "    features.append(np.array(batch['data'].reshape((len(batch['data']), 3, 32, 32)).transpose(0, 2, 3, 1)))\n",
    "    labels.append(batch['labels'])\n",
    "for feat in features:\n",
    "    feat = NormalizeData(feat[:])\n",
    "for lab in labels:\n",
    "    maxval = np.max(lab)\n",
    "    lab = np.eye(maxval+1)[lab]"
   ]
  },
  {
   "cell_type": "code",
   "execution_count": 8,
   "metadata": {},
   "outputs": [],
   "source": [
    "class MISC:    \n",
    "    def cost_derivative(self, aFunc, y):\n",
    "        derivative = aFunc - y\n",
    "        return derivative\n",
    "    \n",
    "    def sigmoid(self, z):\n",
    "        return 1.0/(1.0+np.exp(-z))\n",
    "    def sigmoid_derivative(self, z):\n",
    "        return self.sigmoid(z)*(1-self.sigmoid(z))\n",
    "\n",
    "    def relu(z):\n",
    "      return np.maximum(0,z)\n",
    "    def relu_derivative(z):\n",
    "        z[z<=0] = 0\n",
    "        z[z>0] = 1\n",
    "        return z\n",
    "\n",
    "    def tanh(z):\n",
    "\t    return (np.exp(z) - np.exp(-z)) / (np.exp(z) + np.exp(-z))\n",
    "    def tanh_derivative(self, z):\n",
    "        return 1 - np.power(self.tanh(z), 2)\n",
    "\n",
    "    def softmax(x):\n",
    "      e = np.exp(x-np.max(x))\n",
    "      s = np.sum(e, axis=1, keepdims=True)\n",
    "      return e/s   \n",
    "    def softmax_derivative(self, z):\n",
    "       return self.softmax(z)*self.softmax(1-z)\n",
    "    \n",
    "    def stringToFunc(self, stringAFunc, x):\n",
    "        if (stringAFunc.equals(\"Relu\")): return self.relu(x)\n",
    "        elif (stringAFunc.equals(\"Sigmoid\")): return self.sigmoid(x)\n",
    "        elif (stringAFunc.equals(\"tanh\")): return self.tanh(x)\n",
    "        else: return self.softmax(x)\n",
    "\n",
    "    def stringToFuncDer(self, stringAFunc, x):\n",
    "        if (stringAFunc.equals(\"Relu\")): return self.relu_derivative(x)\n",
    "        elif (stringAFunc.equals(\"Sigmoid\")): return self.sigmoid_derivative(x)\n",
    "        elif (stringAFunc.equals(\"tanh\")): return self.tanh_derivative(x)\n",
    "        else: return self.softmax_derivative(x)\n",
    "\n"
   ]
  },
  {
   "attachments": {},
   "cell_type": "markdown",
   "metadata": {},
   "source": [
    "Multilayer perceptron algorithm:"
   ]
  },
  {
   "cell_type": "code",
   "execution_count": 9,
   "metadata": {},
   "outputs": [],
   "source": [
    "class MLP:\n",
    "    \n",
    "    def __init__(self, aFunc, numOfHiddenLayers, numOfHiddenUnits):\n",
    "        self.aFunc = aFunc\n",
    "        self.numOfHiddenLayers = numOfHiddenLayers\n",
    "        self.numOfHiddenUnits = numOfHiddenUnits\n",
    "\n",
    "        self.weights = {}\n",
    "        self.biases = {}\n",
    "\n",
    "        # Initialize biases for input layer\n",
    "        self.biases.append(np.zeros(self.numOfHiddenUnits[0]))\n",
    "        \n",
    "        # Initialize weights and biases for hidden layers\n",
    "        for i in range(1, self.numOfHiddenLayers):\n",
    "            self.weights.append(np.random.randn(self.numOfHiddenUnits[i], self.numOfHiddenUnits[i-1]))\n",
    "            self.biases.append(np.zeros(self.numOfHiddenUnits[i]))\n",
    "        \n",
    "        # Initialize weights and biases for output layer\n",
    "        self.weights.append(np.random.randn(10, self.numOfHiddenUnits[-1]))\n",
    "        self.biases.append(np.zeros(10))\n",
    "            \n",
    "    def fit(self, x, y, lr, epoch, optimizer):\n",
    "        \n",
    "        def backprop(self, x, y):\n",
    "            z = {}\n",
    "            a = {1: x}  \n",
    "            dr = None \n",
    "            \n",
    "            if (self.aFunc[i].equals(\"Relu\")): dr = MISC.relu(z[i])\n",
    "            elif (self.aFunc[i].equals(\"Sigmoid\")): dr = MISC.sigmoid(z[i])\n",
    "            elif (self.aFunc[i].equals(\"tanh\")):dr = MISC.tanh(z[i])\n",
    "            else: dr = MISC.softmax(z[i])\n",
    "            \n",
    "            for i in range(1, self.numOfHiddenLayers):\n",
    "                z[i + 1] = np.dot(a[i], self.weights[i]) + self.biases[i]\n",
    "                a[i + 1] = MISC.stringToFunc(self.aFunc[i + 1], z[i + 1])\n",
    "\n",
    "            delta = self.cost_derivative(a[-1], y) * MISC.softmax_derivative(z[-1])\n",
    "            dw = np.dot(a[self.numOfHiddenLayers - 1].T, delta)\n",
    "        \n",
    "            update_params = {\n",
    "                self.numOfHiddenLayers - 1: (dw, delta)\n",
    "            }\n",
    "\n",
    "            for i in reversed(range(2, self.numOfHiddenLayers)):\n",
    "                dr = MISC.stringToFuncDer(self.aFunc[i], z[i])\n",
    "                delta = np.dot(delta, self.weights[i].T) * dr\n",
    "                dw = np.dot(a[i - 1].T, delta)\n",
    "                update_params[i - 1] = (dw, delta)\n",
    "\n",
    "            return update_params\n",
    "\n",
    "        self.params = optimizer.run(backprop, x, y)\n",
    "        return self\n",
    "            \n",
    "    def predict(self, x):\n",
    "        z = x\n",
    "        for v in self.params[:-1]:\n",
    "            z = self.aFunc(np.dot(x, v)) #N x M\n",
    "            x = z\n",
    "        yh = MISC.softmax(np.dot(z, self.params[-1]))#N\n",
    "        return yh    "
   ]
  },
  {
   "attachments": {},
   "cell_type": "markdown",
   "metadata": {},
   "source": [
    "GradientDescent Algorithm"
   ]
  },
  {
   "cell_type": "code",
   "execution_count": 10,
   "metadata": {},
   "outputs": [],
   "source": [
    "class GradientDescent:\n",
    "    \n",
    "    def __init__(self, learning_rate=.001, batch_size=16, max_iters=1e4, epsilon=1e-8):\n",
    "        self.learning_rate = learning_rate\n",
    "        self.max_iters = max_iters\n",
    "        self.epsilon = epsilon\n",
    "        self.batch_size = batch_size\n",
    "        \n",
    "    def run(self, gradient_fn, x, y, params):\n",
    "        m = x.shape\n",
    "        num_batches = m[0] // self.batch_size\n",
    "        norms = np.array([np.inf])\n",
    "        t = 1\n",
    "        while np.any(norms > self.epsilon) and t < self.max_iters:\n",
    "            permutation = np.random.permutation(m[1])\n",
    "            x_shuffle = x[:, permutation]\n",
    "            y_shuffle = y[:, permutation]\n",
    "            \n",
    "            for a in range(num_batches):\n",
    "                start = a * self.batch_size\n",
    "                end = start + self.batch_size\n",
    "                x_batch = x_shuffle[start:end,:]\n",
    "                y_batch = y_shuffle[start:end,:]\n",
    "\n",
    "                # Compute the gradient \n",
    "                grad = gradient_fn(x_batch, y_batch, params)\n",
    "                for p in range(len(params)):\n",
    "                    params[p] -= self.learning_rate * grad[p]\n",
    "                norms = np.array([np.linalg.norm(g) for g in grad])\n",
    "            t += 1\n",
    "        return params"
   ]
  },
  {
   "cell_type": "markdown",
   "metadata": {},
   "source": []
  },
  {
   "cell_type": "code",
   "execution_count": 11,
   "metadata": {},
   "outputs": [
    {
     "ename": "AttributeError",
     "evalue": "'dict' object has no attribute 'append'",
     "output_type": "error",
     "traceback": [
      "\u001b[0;31m---------------------------------------------------------------------------\u001b[0m",
      "\u001b[0;31mAttributeError\u001b[0m                            Traceback (most recent call last)",
      "\u001b[1;32m/Users/amanchana/Desktop/WINTER 2023/COMP 551/Projects/A2/cifar-10-batches-py/MLP.ipynb Cell 10\u001b[0m in \u001b[0;36m1\n\u001b[0;32m----> <a href='vscode-notebook-cell:/Users/amanchana/Desktop/WINTER%202023/COMP%20551/Projects/A2/cifar-10-batches-py/MLP.ipynb#X61sZmlsZQ%3D%3D?line=0'>1</a>\u001b[0m no_hidden \u001b[39m=\u001b[39m MLP(MISC\u001b[39m.\u001b[39msoftmax,\u001b[39m0\u001b[39m,\u001b[39m0\u001b[39m)\n\u001b[1;32m      <a href='vscode-notebook-cell:/Users/amanchana/Desktop/WINTER%202023/COMP%20551/Projects/A2/cifar-10-batches-py/MLP.ipynb#X61sZmlsZQ%3D%3D?line=1'>2</a>\u001b[0m optimizer \u001b[39m=\u001b[39m GradientDescent()\n\u001b[1;32m      <a href='vscode-notebook-cell:/Users/amanchana/Desktop/WINTER%202023/COMP%20551/Projects/A2/cifar-10-batches-py/MLP.ipynb#X61sZmlsZQ%3D%3D?line=2'>3</a>\u001b[0m fit_no_hidden \u001b[39m=\u001b[39m no_hidden\u001b[39m.\u001b[39mfit(batches[\u001b[39m0\u001b[39m][\u001b[39m0\u001b[39m],batches[\u001b[39m0\u001b[39m][\u001b[39m1\u001b[39m],\u001b[39m.001\u001b[39m, \u001b[39m100\u001b[39m, optimizer)\n",
      "\u001b[1;32m/Users/amanchana/Desktop/WINTER 2023/COMP 551/Projects/A2/cifar-10-batches-py/MLP.ipynb Cell 10\u001b[0m in \u001b[0;36m1\n\u001b[1;32m      <a href='vscode-notebook-cell:/Users/amanchana/Desktop/WINTER%202023/COMP%20551/Projects/A2/cifar-10-batches-py/MLP.ipynb#X61sZmlsZQ%3D%3D?line=8'>9</a>\u001b[0m \u001b[39mself\u001b[39m\u001b[39m.\u001b[39mbiases \u001b[39m=\u001b[39m {}\n\u001b[1;32m     <a href='vscode-notebook-cell:/Users/amanchana/Desktop/WINTER%202023/COMP%20551/Projects/A2/cifar-10-batches-py/MLP.ipynb#X61sZmlsZQ%3D%3D?line=10'>11</a>\u001b[0m \u001b[39m# Initialize biases for input layer\u001b[39;00m\n\u001b[0;32m---> <a href='vscode-notebook-cell:/Users/amanchana/Desktop/WINTER%202023/COMP%20551/Projects/A2/cifar-10-batches-py/MLP.ipynb#X61sZmlsZQ%3D%3D?line=11'>12</a>\u001b[0m \u001b[39mself\u001b[39;49m\u001b[39m.\u001b[39;49mbiases\u001b[39m.\u001b[39;49mappend(np\u001b[39m.\u001b[39mzeros(\u001b[39mself\u001b[39m\u001b[39m.\u001b[39mnumOfHiddenUnits[\u001b[39m0\u001b[39m]))\n\u001b[1;32m     <a href='vscode-notebook-cell:/Users/amanchana/Desktop/WINTER%202023/COMP%20551/Projects/A2/cifar-10-batches-py/MLP.ipynb#X61sZmlsZQ%3D%3D?line=13'>14</a>\u001b[0m \u001b[39m# Initialize weights and biases for hidden layers\u001b[39;00m\n\u001b[1;32m     <a href='vscode-notebook-cell:/Users/amanchana/Desktop/WINTER%202023/COMP%20551/Projects/A2/cifar-10-batches-py/MLP.ipynb#X61sZmlsZQ%3D%3D?line=14'>15</a>\u001b[0m \u001b[39mfor\u001b[39;00m i \u001b[39min\u001b[39;00m \u001b[39mrange\u001b[39m(\u001b[39m1\u001b[39m, \u001b[39mself\u001b[39m\u001b[39m.\u001b[39mnumOfHiddenLayers):\n",
      "\u001b[0;31mAttributeError\u001b[0m: 'dict' object has no attribute 'append'"
     ]
    }
   ],
   "source": [
    "no_hidden = MLP(MISC.softmax,0,0)\n",
    "optimizer = GradientDescent()\n",
    "fit_no_hidden = no_hidden.fit(batches[0][0],batches[0][1],.001, 100, optimizer)\n",
    "single_layer=  MLP((MISC.relu, MISC.softmax),1,256)\n",
    "fit_single_layer = single_layer.fit(batches[0][0],batches[0][1],.001, 100, optimizer)\n",
    "two_layers = MLP((MISC.relu, MISC.softmax),2,256)\n",
    "fit_two_layers = two_layers.fit(batches[0][0],batches[0][1],.001, 100, optimizer)\n"
   ]
  }
 ],
 "metadata": {
  "kernelspec": {
   "display_name": "Python 3",
   "language": "python",
   "name": "python3"
  },
  "language_info": {
   "codemirror_mode": {
    "name": "ipython",
    "version": 3
   },
   "file_extension": ".py",
   "mimetype": "text/x-python",
   "name": "python",
   "nbconvert_exporter": "python",
   "pygments_lexer": "ipython3",
   "version": "3.10.0"
  },
  "orig_nbformat": 4,
  "vscode": {
   "interpreter": {
    "hash": "aee8b7b246df8f9039afb4144a1f6fd8d2ca17a180786b69acc140d282b71a49"
   }
  }
 },
 "nbformat": 4,
 "nbformat_minor": 2
}
