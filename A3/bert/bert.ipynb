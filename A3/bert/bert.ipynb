{
 "cells": [
  {
   "cell_type": "code",
   "execution_count": 1,
   "metadata": {},
   "outputs": [],
   "source": [
    "import pandas as pd\n",
    "import numpy as np\n",
    "import matplotlib.pyplot as plt\n",
    "import seaborn as sns\n",
    "import os\n",
    "import transformers\n",
    "import re\n",
    "import torch"
   ]
  },
  {
   "cell_type": "code",
   "execution_count": 2,
   "metadata": {},
   "outputs": [
    {
     "name": "stdout",
     "output_type": "stream",
     "text": [
      "12500\n",
      "12500\n"
     ]
    }
   ],
   "source": [
    "df_train = pd.DataFrame()\n",
    "df_train[\"Sentences\"] = []\n",
    "df_train[\"Sentiment\"] = []\n",
    "df_train\n",
    "for dirname, _, filenames in os.walk('train/neg'):\n",
    "    print(len(filenames))\n",
    "    for file in filenames[:1000]:\n",
    "        with open(os.path.join(dirname, file), 'r', encoding=\"utf8\") as file:\n",
    "            review = file.read()\n",
    "            review = re.sub('<.*?>', '', review)\n",
    "        df_train.loc[len(df_train.index)] = [review, 0]\n",
    "for dirname, _, filenames in os.walk('train/pos'):\n",
    "    print(len(filenames))\n",
    "    for file in filenames[:1000]:\n",
    "        with open(os.path.join(dirname, file), 'r',encoding=\"utf8\") as file:\n",
    "            review = file.read().strip()\n",
    "            review = re.sub('<.*?>', '', review)\n",
    "        df_train.loc[len(df_train.index)] = [review, 1]\n",
    "    "
   ]
  },
  {
   "cell_type": "code",
   "execution_count": 3,
   "metadata": {},
   "outputs": [
    {
     "data": {
      "text/html": [
       "<div>\n",
       "<style scoped>\n",
       "    .dataframe tbody tr th:only-of-type {\n",
       "        vertical-align: middle;\n",
       "    }\n",
       "\n",
       "    .dataframe tbody tr th {\n",
       "        vertical-align: top;\n",
       "    }\n",
       "\n",
       "    .dataframe thead th {\n",
       "        text-align: right;\n",
       "    }\n",
       "</style>\n",
       "<table border=\"1\" class=\"dataframe\">\n",
       "  <thead>\n",
       "    <tr style=\"text-align: right;\">\n",
       "      <th></th>\n",
       "      <th>Sentences</th>\n",
       "      <th>Sentiment</th>\n",
       "    </tr>\n",
       "  </thead>\n",
       "  <tbody>\n",
       "    <tr>\n",
       "      <th>0</th>\n",
       "      <td>Working with one of the best Shakespeare sourc...</td>\n",
       "      <td>0</td>\n",
       "    </tr>\n",
       "    <tr>\n",
       "      <th>1</th>\n",
       "      <td>Well...tremors I, the original started off in ...</td>\n",
       "      <td>0</td>\n",
       "    </tr>\n",
       "    <tr>\n",
       "      <th>2</th>\n",
       "      <td>Ouch! This one was a bit painful to sit throug...</td>\n",
       "      <td>0</td>\n",
       "    </tr>\n",
       "    <tr>\n",
       "      <th>3</th>\n",
       "      <td>I've seen some crappy movies in my life, but t...</td>\n",
       "      <td>0</td>\n",
       "    </tr>\n",
       "    <tr>\n",
       "      <th>4</th>\n",
       "      <td>\"Carriers\" follows the exploits of two guys an...</td>\n",
       "      <td>0</td>\n",
       "    </tr>\n",
       "    <tr>\n",
       "      <th>...</th>\n",
       "      <td>...</td>\n",
       "      <td>...</td>\n",
       "    </tr>\n",
       "    <tr>\n",
       "      <th>1995</th>\n",
       "      <td>Without \"mental anachronism\", this film which ...</td>\n",
       "      <td>1</td>\n",
       "    </tr>\n",
       "    <tr>\n",
       "      <th>1996</th>\n",
       "      <td>This movie is just great. It's entertaining fr...</td>\n",
       "      <td>1</td>\n",
       "    </tr>\n",
       "    <tr>\n",
       "      <th>1997</th>\n",
       "      <td>I've seen the original English version on vide...</td>\n",
       "      <td>1</td>\n",
       "    </tr>\n",
       "    <tr>\n",
       "      <th>1998</th>\n",
       "      <td>Hello, I was alanrickmaniac. I'm a Still Crazy...</td>\n",
       "      <td>1</td>\n",
       "    </tr>\n",
       "    <tr>\n",
       "      <th>1999</th>\n",
       "      <td>In some ways, The Wrath of Kriemhild surpasses...</td>\n",
       "      <td>1</td>\n",
       "    </tr>\n",
       "  </tbody>\n",
       "</table>\n",
       "<p>2000 rows × 2 columns</p>\n",
       "</div>"
      ],
      "text/plain": [
       "                                              Sentences  Sentiment\n",
       "0     Working with one of the best Shakespeare sourc...          0\n",
       "1     Well...tremors I, the original started off in ...          0\n",
       "2     Ouch! This one was a bit painful to sit throug...          0\n",
       "3     I've seen some crappy movies in my life, but t...          0\n",
       "4     \"Carriers\" follows the exploits of two guys an...          0\n",
       "...                                                 ...        ...\n",
       "1995  Without \"mental anachronism\", this film which ...          1\n",
       "1996  This movie is just great. It's entertaining fr...          1\n",
       "1997  I've seen the original English version on vide...          1\n",
       "1998  Hello, I was alanrickmaniac. I'm a Still Crazy...          1\n",
       "1999  In some ways, The Wrath of Kriemhild surpasses...          1\n",
       "\n",
       "[2000 rows x 2 columns]"
      ]
     },
     "execution_count": 3,
     "metadata": {},
     "output_type": "execute_result"
    }
   ],
   "source": [
    "df_train"
   ]
  },
  {
   "cell_type": "code",
   "execution_count": 4,
   "metadata": {},
   "outputs": [
    {
     "name": "stdout",
     "output_type": "stream",
     "text": [
      "12500\n",
      "12500\n"
     ]
    }
   ],
   "source": [
    "df_test = pd.DataFrame()\n",
    "df_test[\"Sentences\"] = []\n",
    "df_test[\"Sentiment\"] = []\n",
    "df_test\n",
    "for dirname, _, filenames in os.walk('test/neg'):\n",
    "    print(len(filenames))\n",
    "    for file in filenames[:250]:\n",
    "        with open(os.path.join(dirname, file), 'r', encoding=\"utf8\") as file:\n",
    "            review = file.read().strip()\n",
    "            review = re.sub('<.*?>', '', review)\n",
    "        df_test.loc[len(df_test.index)] = [review, 0]\n",
    "for dirname, _, filenames in os.walk('test/pos'):\n",
    "    print(len(filenames))\n",
    "    for file in filenames[:250]:\n",
    "        with open(os.path.join(dirname, file), 'r', encoding=\"utf8\") as file:\n",
    "            review = file.read().strip()\n",
    "            review = re.sub('<.*?>', '', review)\n",
    "        df_test.loc[len(df_test.index)] = [review, 1]"
   ]
  },
  {
   "cell_type": "code",
   "execution_count": 5,
   "metadata": {},
   "outputs": [
    {
     "data": {
      "text/html": [
       "<div>\n",
       "<style scoped>\n",
       "    .dataframe tbody tr th:only-of-type {\n",
       "        vertical-align: middle;\n",
       "    }\n",
       "\n",
       "    .dataframe tbody tr th {\n",
       "        vertical-align: top;\n",
       "    }\n",
       "\n",
       "    .dataframe thead th {\n",
       "        text-align: right;\n",
       "    }\n",
       "</style>\n",
       "<table border=\"1\" class=\"dataframe\">\n",
       "  <thead>\n",
       "    <tr style=\"text-align: right;\">\n",
       "      <th></th>\n",
       "      <th>Sentences</th>\n",
       "      <th>Sentiment</th>\n",
       "    </tr>\n",
       "  </thead>\n",
       "  <tbody>\n",
       "    <tr>\n",
       "      <th>0</th>\n",
       "      <td>Alan Rickman &amp; Emma Thompson give good perform...</td>\n",
       "      <td>0</td>\n",
       "    </tr>\n",
       "    <tr>\n",
       "      <th>1</th>\n",
       "      <td>I have seen this movie and I did not care for ...</td>\n",
       "      <td>0</td>\n",
       "    </tr>\n",
       "    <tr>\n",
       "      <th>2</th>\n",
       "      <td>In Los Angeles, the alcoholic and lazy Hank Ch...</td>\n",
       "      <td>0</td>\n",
       "    </tr>\n",
       "    <tr>\n",
       "      <th>3</th>\n",
       "      <td>This film is bundled along with \"Gli fumavano ...</td>\n",
       "      <td>0</td>\n",
       "    </tr>\n",
       "    <tr>\n",
       "      <th>4</th>\n",
       "      <td>I only comment on really very good films and o...</td>\n",
       "      <td>0</td>\n",
       "    </tr>\n",
       "    <tr>\n",
       "      <th>...</th>\n",
       "      <td>...</td>\n",
       "      <td>...</td>\n",
       "    </tr>\n",
       "    <tr>\n",
       "      <th>495</th>\n",
       "      <td>So after years and years I finally track this ...</td>\n",
       "      <td>1</td>\n",
       "    </tr>\n",
       "    <tr>\n",
       "      <th>496</th>\n",
       "      <td>I'm astonished how a filmmaker notorious for h...</td>\n",
       "      <td>1</td>\n",
       "    </tr>\n",
       "    <tr>\n",
       "      <th>497</th>\n",
       "      <td>We all enjoyed the movie. It is a very charmin...</td>\n",
       "      <td>1</td>\n",
       "    </tr>\n",
       "    <tr>\n",
       "      <th>498</th>\n",
       "      <td>Fascinating and amusingly bad, Lights of New Y...</td>\n",
       "      <td>1</td>\n",
       "    </tr>\n",
       "    <tr>\n",
       "      <th>499</th>\n",
       "      <td>It was 1983 and I was 13. I watched Valley Gir...</td>\n",
       "      <td>1</td>\n",
       "    </tr>\n",
       "  </tbody>\n",
       "</table>\n",
       "<p>500 rows × 2 columns</p>\n",
       "</div>"
      ],
      "text/plain": [
       "                                             Sentences  Sentiment\n",
       "0    Alan Rickman & Emma Thompson give good perform...          0\n",
       "1    I have seen this movie and I did not care for ...          0\n",
       "2    In Los Angeles, the alcoholic and lazy Hank Ch...          0\n",
       "3    This film is bundled along with \"Gli fumavano ...          0\n",
       "4    I only comment on really very good films and o...          0\n",
       "..                                                 ...        ...\n",
       "495  So after years and years I finally track this ...          1\n",
       "496  I'm astonished how a filmmaker notorious for h...          1\n",
       "497  We all enjoyed the movie. It is a very charmin...          1\n",
       "498  Fascinating and amusingly bad, Lights of New Y...          1\n",
       "499  It was 1983 and I was 13. I watched Valley Gir...          1\n",
       "\n",
       "[500 rows x 2 columns]"
      ]
     },
     "execution_count": 5,
     "metadata": {},
     "output_type": "execute_result"
    }
   ],
   "source": [
    "df_test"
   ]
  },
  {
   "cell_type": "code",
   "execution_count": 6,
   "metadata": {},
   "outputs": [
    {
     "data": {
      "text/plain": [
       "(2000, 2000, 500, 500)"
      ]
     },
     "execution_count": 6,
     "metadata": {},
     "output_type": "execute_result"
    }
   ],
   "source": [
    "train_texts, train_labels = df_train[\"Sentences\"], df_train[\"Sentiment\"]\n",
    "test_texts, test_labels = df_test[\"Sentences\"], df_test[\"Sentiment\"]\n",
    "\n",
    "len(train_texts), len(train_labels), len(test_texts), len(test_labels)"
   ]
  },
  {
   "cell_type": "code",
   "execution_count": 7,
   "metadata": {},
   "outputs": [
    {
     "data": {
      "text/plain": [
       "\"Working with one of the best Shakespeare sources, this film manages to be creditable to it's source, whilst still appealing to a wider audience.Branagh steals the film from under Fishburne's nose, and there's a talented cast on good form.\""
      ]
     },
     "execution_count": 7,
     "metadata": {},
     "output_type": "execute_result"
    }
   ],
   "source": [
    "train_texts[0]"
   ]
  },
  {
   "cell_type": "code",
   "execution_count": 8,
   "metadata": {},
   "outputs": [
    {
     "data": {
      "text/plain": [
       "[Text(0.5, 1.0, 'No. of characters in each sentence'),\n",
       " Text(0.5, 0, 'Number of sentence'),\n",
       " Text(0, 0.5, 'Number of Characters in each sentence')]"
      ]
     },
     "execution_count": 8,
     "metadata": {},
     "output_type": "execute_result"
    },
    {
     "data": {
      "image/png": "[encoded data removed]",
      "text/plain": [
       "<Figure size 640x480 with 1 Axes>"
      ]
     },
     "metadata": {},
     "output_type": "display_data"
    }
   ],
   "source": [
    "sentences = [len(sent) for sent in train_texts]\n",
    "\n",
    "plt.bar(range(1,2001), sentences)\n",
    "plt.gca().set(title='No. of characters in each sentence', xlabel='Number of sentence', ylabel='Number of Characters in each sentence')"
   ]
  },
  {
   "cell_type": "code",
   "execution_count": 9,
   "metadata": {},
   "outputs": [
    {
     "data": {
      "text/plain": [
       "7940"
      ]
     },
     "execution_count": 9,
     "metadata": {},
     "output_type": "execute_result"
    }
   ],
   "source": [
    "max_char = max(sentences)\n",
    "max_char"
   ]
  },
  {
   "attachments": {},
   "cell_type": "markdown",
   "metadata": {},
   "source": [
    "Getting Tokenized Input for training data"
   ]
  },
  {
   "cell_type": "code",
   "execution_count": 10,
   "metadata": {},
   "outputs": [],
   "source": [
    "from transformers import BertTokenizer\n",
    "tokenizer = BertTokenizer.from_pretrained('bert-base-uncased', do_lower_case=True)"
   ]
  },
  {
   "cell_type": "code",
   "execution_count": 11,
   "metadata": {},
   "outputs": [],
   "source": [
    "encoded_df = pd.DataFrame()\n",
    "encoded_df[\"Tokens\"] = []\n",
    "encoded_df[\"Sentiment\"] = []\n",
    "\n",
    "for i in range(len(train_texts)):\n",
    "    encoded_sent = tokenizer.encode_plus(\n",
    "                text= train_texts[i],  # Preprocess sentence\n",
    "                add_special_tokens=True,        # Add `[CLS]` and `[SEP]`\n",
    "                max_length=max_char,                  # Max length to truncate/pad\n",
    "                padding ='max_length',         # Pad sentence to max length\n",
    "                #return_tensors='pt',           # Return PyTorch tensor\n",
    "                return_attention_mask=True      # Return attention mask\n",
    "                )\n",
    "    encoded_df.loc[len(encoded_df.index)] = [encoded_sent['input_ids'], train_labels[i]]\n"
   ]
  },
  {
   "cell_type": "code",
   "execution_count": 12,
   "metadata": {},
   "outputs": [
    {
     "data": {
      "text/html": [
       "<div>\n",
       "<style scoped>\n",
       "    .dataframe tbody tr th:only-of-type {\n",
       "        vertical-align: middle;\n",
       "    }\n",
       "\n",
       "    .dataframe tbody tr th {\n",
       "        vertical-align: top;\n",
       "    }\n",
       "\n",
       "    .dataframe thead th {\n",
       "        text-align: right;\n",
       "    }\n",
       "</style>\n",
       "<table border=\"1\" class=\"dataframe\">\n",
       "  <thead>\n",
       "    <tr style=\"text-align: right;\">\n",
       "      <th></th>\n",
       "      <th>Tokens</th>\n",
       "      <th>Sentiment</th>\n",
       "    </tr>\n",
       "  </thead>\n",
       "  <tbody>\n",
       "    <tr>\n",
       "      <th>0</th>\n",
       "      <td>[101, 2551, 2007, 2028, 1997, 1996, 2190, 8101...</td>\n",
       "      <td>0</td>\n",
       "    </tr>\n",
       "    <tr>\n",
       "      <th>1</th>\n",
       "      <td>[101, 2092, 1012, 1012, 1012, 27734, 2015, 104...</td>\n",
       "      <td>0</td>\n",
       "    </tr>\n",
       "    <tr>\n",
       "      <th>2</th>\n",
       "      <td>[101, 15068, 2818, 999, 2023, 2028, 2001, 1037...</td>\n",
       "      <td>0</td>\n",
       "    </tr>\n",
       "    <tr>\n",
       "      <th>3</th>\n",
       "      <td>[101, 1045, 1005, 2310, 2464, 2070, 10231, 768...</td>\n",
       "      <td>0</td>\n",
       "    </tr>\n",
       "    <tr>\n",
       "      <th>4</th>\n",
       "      <td>[101, 1000, 11363, 1000, 4076, 1996, 20397, 19...</td>\n",
       "      <td>0</td>\n",
       "    </tr>\n",
       "    <tr>\n",
       "      <th>...</th>\n",
       "      <td>...</td>\n",
       "      <td>...</td>\n",
       "    </tr>\n",
       "    <tr>\n",
       "      <th>1995</th>\n",
       "      <td>[101, 2302, 1000, 5177, 9617, 2818, 4948, 2964...</td>\n",
       "      <td>1</td>\n",
       "    </tr>\n",
       "    <tr>\n",
       "      <th>1996</th>\n",
       "      <td>[101, 2023, 3185, 2003, 2074, 2307, 1012, 2009...</td>\n",
       "      <td>1</td>\n",
       "    </tr>\n",
       "    <tr>\n",
       "      <th>1997</th>\n",
       "      <td>[101, 1045, 1005, 2310, 2464, 1996, 2434, 2394...</td>\n",
       "      <td>1</td>\n",
       "    </tr>\n",
       "    <tr>\n",
       "      <th>1998</th>\n",
       "      <td>[101, 7592, 1010, 1045, 2001, 5070, 11285, 270...</td>\n",
       "      <td>1</td>\n",
       "    </tr>\n",
       "    <tr>\n",
       "      <th>1999</th>\n",
       "      <td>[101, 1999, 2070, 3971, 1010, 1996, 14532, 199...</td>\n",
       "      <td>1</td>\n",
       "    </tr>\n",
       "  </tbody>\n",
       "</table>\n",
       "<p>2000 rows × 2 columns</p>\n",
       "</div>"
      ],
      "text/plain": [
       "                                                 Tokens  Sentiment\n",
       "0     [101, 2551, 2007, 2028, 1997, 1996, 2190, 8101...          0\n",
       "1     [101, 2092, 1012, 1012, 1012, 27734, 2015, 104...          0\n",
       "2     [101, 15068, 2818, 999, 2023, 2028, 2001, 1037...          0\n",
       "3     [101, 1045, 1005, 2310, 2464, 2070, 10231, 768...          0\n",
       "4     [101, 1000, 11363, 1000, 4076, 1996, 20397, 19...          0\n",
       "...                                                 ...        ...\n",
       "1995  [101, 2302, 1000, 5177, 9617, 2818, 4948, 2964...          1\n",
       "1996  [101, 2023, 3185, 2003, 2074, 2307, 1012, 2009...          1\n",
       "1997  [101, 1045, 1005, 2310, 2464, 1996, 2434, 2394...          1\n",
       "1998  [101, 7592, 1010, 1045, 2001, 5070, 11285, 270...          1\n",
       "1999  [101, 1999, 2070, 3971, 1010, 1996, 14532, 199...          1\n",
       "\n",
       "[2000 rows x 2 columns]"
      ]
     },
     "execution_count": 12,
     "metadata": {},
     "output_type": "execute_result"
    }
   ],
   "source": [
    "encoded_df"
   ]
  },
  {
   "cell_type": "code",
   "execution_count": 13,
   "metadata": {},
   "outputs": [
    {
     "name": "stdout",
     "output_type": "stream",
     "text": [
      "[[  101  2551  2007 ...     0     0     0]\n",
      " [  101  2092  1012 ...     0     0     0]\n",
      " [  101 15068  2818 ...     0     0     0]\n",
      " ...\n",
      " [  101  1045  1005 ...     0     0     0]\n",
      " [  101  7592  1010 ...     0     0     0]\n",
      " [  101  1999  2070 ...     0     0     0]]\n",
      "(2000, 7940)\n"
     ]
    }
   ],
   "source": [
    "train_matrix = np.stack(encoded_df['Tokens'].apply(np.array))\n",
    "\n",
    "# print the resulting matrix and its shape\n",
    "print(train_matrix)\n",
    "print(train_matrix.shape)"
   ]
  },
  {
   "cell_type": "code",
   "execution_count": 14,
   "metadata": {},
   "outputs": [
    {
     "name": "stdout",
     "output_type": "stream",
     "text": [
      "0       [101, 2551, 2007, 2028, 1997, 1996, 2190, 8101...\n",
      "1       [101, 2092, 1012, 1012, 1012, 27734, 2015, 104...\n",
      "2       [101, 15068, 2818, 999, 2023, 2028, 2001, 1037...\n",
      "3       [101, 1045, 1005, 2310, 2464, 2070, 10231, 768...\n",
      "4       [101, 1000, 11363, 1000, 4076, 1996, 20397, 19...\n",
      "                              ...                        \n",
      "1995    [101, 2302, 1000, 5177, 9617, 2818, 4948, 2964...\n",
      "1996    [101, 2023, 3185, 2003, 2074, 2307, 1012, 2009...\n",
      "1997    [101, 1045, 1005, 2310, 2464, 1996, 2434, 2394...\n",
      "1998    [101, 7592, 1010, 1045, 2001, 5070, 11285, 270...\n",
      "1999    [101, 1999, 2070, 3971, 1010, 1996, 14532, 199...\n",
      "Name: Tokens, Length: 2000, dtype: object\n",
      "0       0\n",
      "1       0\n",
      "2       0\n",
      "3       0\n",
      "4       0\n",
      "       ..\n",
      "1995    1\n",
      "1996    1\n",
      "1997    1\n",
      "1998    1\n",
      "1999    1\n",
      "Name: Sentiment, Length: 2000, dtype: int64\n"
     ]
    }
   ],
   "source": [
    "train_tokens = encoded_df[\"Tokens\"]\n",
    "print(train_tokens)\n",
    "train_labels = encoded_df[\"Sentiment\"]\n",
    "print(train_labels)"
   ]
  },
  {
   "attachments": {},
   "cell_type": "markdown",
   "metadata": {},
   "source": [
    "Tokenized Inputs of Test"
   ]
  },
  {
   "cell_type": "code",
   "execution_count": 15,
   "metadata": {},
   "outputs": [
    {
     "data": {
      "text/plain": [
       "[Text(0.5, 1.0, 'No. of characters in each sentence'),\n",
       " Text(0.5, 0, 'Number of sentence'),\n",
       " Text(0, 0.5, 'Number of Characters in each sentence')]"
      ]
     },
     "execution_count": 15,
     "metadata": {},
     "output_type": "execute_result"
    },
    {
     "data": {
      "image/png": "[encoded data removed]",
      "text/plain": [
       "<Figure size 640x480 with 1 Axes>"
      ]
     },
     "metadata": {},
     "output_type": "display_data"
    }
   ],
   "source": [
    "sentences = [len(sent) for sent in test_texts]\n",
    "\n",
    "#plt.rcParams.update({'figure.figsize':(7,5), 'figure.dpi':100})\n",
    "# plt.bar(range(1,25001), sentences, color = ['red'])\n",
    "plt.bar(range(1,501), sentences)\n",
    "plt.gca().set(title='No. of characters in each sentence', xlabel='Number of sentence', ylabel='Number of Characters in each sentence')"
   ]
  },
  {
   "cell_type": "code",
   "execution_count": 16,
   "metadata": {},
   "outputs": [
    {
     "data": {
      "text/plain": [
       "5736"
      ]
     },
     "execution_count": 16,
     "metadata": {},
     "output_type": "execute_result"
    }
   ],
   "source": [
    "max_char = max(sentences)\n",
    "max_char"
   ]
  },
  {
   "cell_type": "code",
   "execution_count": 17,
   "metadata": {},
   "outputs": [],
   "source": [
    "from transformers import BertTokenizer\n",
    "tokenizer = BertTokenizer.from_pretrained('bert-base-uncased', do_lower_case=True)"
   ]
  },
  {
   "cell_type": "code",
   "execution_count": 18,
   "metadata": {},
   "outputs": [],
   "source": [
    "encoded_df_test = pd.DataFrame()\n",
    "encoded_df_test[\"Tokens\"] = []\n",
    "encoded_df_test[\"Sentiment\"] = []\n",
    "\n",
    "for i in range(len(test_texts)):\n",
    "    encoded_sent = tokenizer.encode_plus(\n",
    "                text= test_texts[i],  # Preprocess sentence\n",
    "                add_special_tokens=True,        # Add `[CLS]` and `[SEP]`\n",
    "                max_length=max_char,                  # Max length to truncate/pad\n",
    "                padding ='max_length',         # Pad sentence to max length\n",
    "                #return_tensors='pt',           # Return PyTorch tensor\n",
    "                return_attention_mask=True      # Return attention mask\n",
    "                )\n",
    "    encoded_df_test.loc[len(encoded_df_test.index)] = [encoded_sent['input_ids'], test_labels[i]]"
   ]
  },
  {
   "cell_type": "code",
   "execution_count": 19,
   "metadata": {},
   "outputs": [
    {
     "data": {
      "text/html": [
       "<div>\n",
       "<style scoped>\n",
       "    .dataframe tbody tr th:only-of-type {\n",
       "        vertical-align: middle;\n",
       "    }\n",
       "\n",
       "    .dataframe tbody tr th {\n",
       "        vertical-align: top;\n",
       "    }\n",
       "\n",
       "    .dataframe thead th {\n",
       "        text-align: right;\n",
       "    }\n",
       "</style>\n",
       "<table border=\"1\" class=\"dataframe\">\n",
       "  <thead>\n",
       "    <tr style=\"text-align: right;\">\n",
       "      <th></th>\n",
       "      <th>Tokens</th>\n",
       "      <th>Sentiment</th>\n",
       "    </tr>\n",
       "  </thead>\n",
       "  <tbody>\n",
       "    <tr>\n",
       "      <th>0</th>\n",
       "      <td>[101, 5070, 6174, 2386, 1004, 5616, 5953, 2507...</td>\n",
       "      <td>0</td>\n",
       "    </tr>\n",
       "    <tr>\n",
       "      <th>1</th>\n",
       "      <td>[101, 1045, 2031, 2464, 2023, 3185, 1998, 1045...</td>\n",
       "      <td>0</td>\n",
       "    </tr>\n",
       "    <tr>\n",
       "      <th>2</th>\n",
       "      <td>[101, 1999, 3050, 3349, 1010, 1996, 14813, 199...</td>\n",
       "      <td>0</td>\n",
       "    </tr>\n",
       "    <tr>\n",
       "      <th>3</th>\n",
       "      <td>[101, 2023, 2143, 2003, 24378, 2247, 2007, 100...</td>\n",
       "      <td>0</td>\n",
       "    </tr>\n",
       "    <tr>\n",
       "      <th>4</th>\n",
       "      <td>[101, 1045, 2069, 7615, 2006, 2428, 2200, 2204...</td>\n",
       "      <td>0</td>\n",
       "    </tr>\n",
       "    <tr>\n",
       "      <th>...</th>\n",
       "      <td>...</td>\n",
       "      <td>...</td>\n",
       "    </tr>\n",
       "    <tr>\n",
       "      <th>495</th>\n",
       "      <td>[101, 2061, 2044, 2086, 1998, 2086, 1045, 2633...</td>\n",
       "      <td>1</td>\n",
       "    </tr>\n",
       "    <tr>\n",
       "      <th>496</th>\n",
       "      <td>[101, 1045, 1005, 1049, 22741, 2129, 1037, 121...</td>\n",
       "      <td>1</td>\n",
       "    </tr>\n",
       "    <tr>\n",
       "      <th>497</th>\n",
       "      <td>[101, 2057, 2035, 5632, 1996, 3185, 1012, 2009...</td>\n",
       "      <td>1</td>\n",
       "    </tr>\n",
       "    <tr>\n",
       "      <th>498</th>\n",
       "      <td>[101, 17160, 1998, 19142, 2135, 2919, 1010, 45...</td>\n",
       "      <td>1</td>\n",
       "    </tr>\n",
       "    <tr>\n",
       "      <th>499</th>\n",
       "      <td>[101, 2009, 2001, 3172, 1998, 1045, 2001, 2410...</td>\n",
       "      <td>1</td>\n",
       "    </tr>\n",
       "  </tbody>\n",
       "</table>\n",
       "<p>500 rows × 2 columns</p>\n",
       "</div>"
      ],
      "text/plain": [
       "                                                Tokens  Sentiment\n",
       "0    [101, 5070, 6174, 2386, 1004, 5616, 5953, 2507...          0\n",
       "1    [101, 1045, 2031, 2464, 2023, 3185, 1998, 1045...          0\n",
       "2    [101, 1999, 3050, 3349, 1010, 1996, 14813, 199...          0\n",
       "3    [101, 2023, 2143, 2003, 24378, 2247, 2007, 100...          0\n",
       "4    [101, 1045, 2069, 7615, 2006, 2428, 2200, 2204...          0\n",
       "..                                                 ...        ...\n",
       "495  [101, 2061, 2044, 2086, 1998, 2086, 1045, 2633...          1\n",
       "496  [101, 1045, 1005, 1049, 22741, 2129, 1037, 121...          1\n",
       "497  [101, 2057, 2035, 5632, 1996, 3185, 1012, 2009...          1\n",
       "498  [101, 17160, 1998, 19142, 2135, 2919, 1010, 45...          1\n",
       "499  [101, 2009, 2001, 3172, 1998, 1045, 2001, 2410...          1\n",
       "\n",
       "[500 rows x 2 columns]"
      ]
     },
     "execution_count": 19,
     "metadata": {},
     "output_type": "execute_result"
    }
   ],
   "source": [
    "encoded_df_test"
   ]
  },
  {
   "cell_type": "code",
   "execution_count": 20,
   "metadata": {},
   "outputs": [
    {
     "name": "stdout",
     "output_type": "stream",
     "text": [
      "0      [101, 5070, 6174, 2386, 1004, 5616, 5953, 2507...\n",
      "1      [101, 1045, 2031, 2464, 2023, 3185, 1998, 1045...\n",
      "2      [101, 1999, 3050, 3349, 1010, 1996, 14813, 199...\n",
      "3      [101, 2023, 2143, 2003, 24378, 2247, 2007, 100...\n",
      "4      [101, 1045, 2069, 7615, 2006, 2428, 2200, 2204...\n",
      "                             ...                        \n",
      "495    [101, 2061, 2044, 2086, 1998, 2086, 1045, 2633...\n",
      "496    [101, 1045, 1005, 1049, 22741, 2129, 1037, 121...\n",
      "497    [101, 2057, 2035, 5632, 1996, 3185, 1012, 2009...\n",
      "498    [101, 17160, 1998, 19142, 2135, 2919, 1010, 45...\n",
      "499    [101, 2009, 2001, 3172, 1998, 1045, 2001, 2410...\n",
      "Name: Tokens, Length: 500, dtype: object\n",
      "0      0\n",
      "1      0\n",
      "2      0\n",
      "3      0\n",
      "4      0\n",
      "      ..\n",
      "495    1\n",
      "496    1\n",
      "497    1\n",
      "498    1\n",
      "499    1\n",
      "Name: Sentiment, Length: 500, dtype: int64\n"
     ]
    }
   ],
   "source": [
    "test_tokens = encoded_df_test[\"Tokens\"]\n",
    "print(test_tokens)\n",
    "test_labels = encoded_df_test[\"Sentiment\"]\n",
    "print(test_labels)"
   ]
  },
  {
   "attachments": {},
   "cell_type": "markdown",
   "metadata": {},
   "source": [
    "Bert Classifier"
   ]
  },
  {
   "cell_type": "code",
   "execution_count": 26,
   "metadata": {},
   "outputs": [],
   "source": [
    "from torch import nn\n",
    "from transformers import BertModel\n",
    "\n",
    "class BertBinaryClassifier(nn.Module):\n",
    "    def __init__(self, dropout=0.1):\n",
    "        super(BertBinaryClassifier, self).__init__()\n",
    "\n",
    "        self.bert = BertModel.from_pretrained('bert-base-uncased')\n",
    "\n",
    "        self.dropout = nn.Dropout(dropout)\n",
    "        self.linear = nn.Linear(768, 1)\n",
    "        self.sigmoid = nn.Sigmoid()\n",
    "    \n",
    "    def forward(self, tokens, masks=None):\n",
    "        _, pooled_output = self.bert(tokens, attention_mask=masks, output_all_encoded_layers=False)\n",
    "        dropout_output = self.dropout(pooled_output)\n",
    "        linear_output = self.linear(dropout_output)\n",
    "        proba = self.sigmoid(linear_output)\n",
    "        return proba"
   ]
  },
  {
   "cell_type": "code",
   "execution_count": 27,
   "metadata": {},
   "outputs": [
    {
     "name": "stderr",
     "output_type": "stream",
     "text": [
      "Some weights of the model checkpoint at bert-base-uncased were not used when initializing BertModel: ['cls.predictions.transform.LayerNorm.bias', 'cls.seq_relationship.bias', 'cls.seq_relationship.weight', 'cls.predictions.decoder.weight', 'cls.predictions.bias', 'cls.predictions.transform.LayerNorm.weight', 'cls.predictions.transform.dense.weight', 'cls.predictions.transform.dense.bias']\n",
      "- This IS expected if you are initializing BertModel from the checkpoint of a model trained on another task or with another architecture (e.g. initializing a BertForSequenceClassification model from a BertForPreTraining model).\n",
      "- This IS NOT expected if you are initializing BertModel from the checkpoint of a model that you expect to be exactly identical (initializing a BertForSequenceClassification model from a BertForSequenceClassification model).\n"
     ]
    }
   ],
   "source": [
    "bert_clf = BertBinaryClassifier()"
   ]
  },
  {
   "cell_type": "code",
   "execution_count": 28,
   "metadata": {},
   "outputs": [
    {
     "ename": "TypeError",
     "evalue": "BertModel.forward() got an unexpected keyword argument 'output_all_encoded_layers'",
     "output_type": "error",
     "traceback": [
      "\u001b[0;31m---------------------------------------------------------------------------\u001b[0m",
      "\u001b[0;31mTypeError\u001b[0m                                 Traceback (most recent call last)",
      "Cell \u001b[0;32mIn[28], line 2\u001b[0m\n\u001b[1;32m      1\u001b[0m x \u001b[39m=\u001b[39m torch\u001b[39m.\u001b[39mtensor(train_tokens[:\u001b[39m3\u001b[39m])\n\u001b[0;32m----> 2\u001b[0m y, pooled \u001b[39m=\u001b[39m bert_clf\u001b[39m.\u001b[39;49mbert(x, output_all_encoded_layers\u001b[39m=\u001b[39;49m\u001b[39mFalse\u001b[39;49;00m)\n\u001b[1;32m      3\u001b[0m x\u001b[39m.\u001b[39mshape, y\u001b[39m.\u001b[39mshape, pooled\u001b[39m.\u001b[39mshape\n",
      "File \u001b[0;32m/Library/Frameworks/Python.framework/Versions/3.11/lib/python3.11/site-packages/torch/nn/modules/module.py:1501\u001b[0m, in \u001b[0;36mModule._call_impl\u001b[0;34m(self, *args, **kwargs)\u001b[0m\n\u001b[1;32m   1496\u001b[0m \u001b[39m# If we don't have any hooks, we want to skip the rest of the logic in\u001b[39;00m\n\u001b[1;32m   1497\u001b[0m \u001b[39m# this function, and just call forward.\u001b[39;00m\n\u001b[1;32m   1498\u001b[0m \u001b[39mif\u001b[39;00m \u001b[39mnot\u001b[39;00m (\u001b[39mself\u001b[39m\u001b[39m.\u001b[39m_backward_hooks \u001b[39mor\u001b[39;00m \u001b[39mself\u001b[39m\u001b[39m.\u001b[39m_backward_pre_hooks \u001b[39mor\u001b[39;00m \u001b[39mself\u001b[39m\u001b[39m.\u001b[39m_forward_hooks \u001b[39mor\u001b[39;00m \u001b[39mself\u001b[39m\u001b[39m.\u001b[39m_forward_pre_hooks\n\u001b[1;32m   1499\u001b[0m         \u001b[39mor\u001b[39;00m _global_backward_pre_hooks \u001b[39mor\u001b[39;00m _global_backward_hooks\n\u001b[1;32m   1500\u001b[0m         \u001b[39mor\u001b[39;00m _global_forward_hooks \u001b[39mor\u001b[39;00m _global_forward_pre_hooks):\n\u001b[0;32m-> 1501\u001b[0m     \u001b[39mreturn\u001b[39;00m forward_call(\u001b[39m*\u001b[39;49margs, \u001b[39m*\u001b[39;49m\u001b[39m*\u001b[39;49mkwargs)\n\u001b[1;32m   1502\u001b[0m \u001b[39m# Do not call functions when jit is used\u001b[39;00m\n\u001b[1;32m   1503\u001b[0m full_backward_hooks, non_full_backward_hooks \u001b[39m=\u001b[39m [], []\n",
      "\u001b[0;31mTypeError\u001b[0m: BertModel.forward() got an unexpected keyword argument 'output_all_encoded_layers'"
     ]
    }
   ],
   "source": [
    "x = torch.tensor(train_tokens[:3])\n",
    "y, pooled = bert_clf.bert(x, output_all_encoded_layers=False)\n",
    "x.shape, y.shape, pooled.shape"
   ]
  }
 ],
 "metadata": {
  "kernelspec": {
   "display_name": "Python 3",
   "language": "python",
   "name": "python3"
  },
  "language_info": {
   "codemirror_mode": {
    "name": "ipython",
    "version": 3
   },
   "file_extension": ".py",
   "mimetype": "text/x-python",
   "name": "python",
   "nbconvert_exporter": "python",
   "pygments_lexer": "ipython3",
   "version": "3.11.1"
  },
  "orig_nbformat": 4
 },
 "nbformat": 4,
 "nbformat_minor": 2
}
