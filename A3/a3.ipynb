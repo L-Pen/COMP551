{
 "cells": [
  {
   "cell_type": "code",
   "execution_count": 1,
   "metadata": {},
   "outputs": [],
   "source": [
    "import numpy as np\n",
    "import itertools\n",
    "%matplotlib inline\n",
    "import matplotlib.pyplot as plt\n",
    "from sklearn import datasets"
   ]
  },
  {
   "attachments": {},
   "cell_type": "markdown",
   "metadata": {},
   "source": [
    "Load and preprocess data"
   ]
  },
  {
   "cell_type": "code",
   "execution_count": 32,
   "metadata": {},
   "outputs": [],
   "source": [
    "import os\n",
    "import re\n",
    "from sklearn.feature_extraction.text import CountVectorizer\n",
    "from sklearn.naive_bayes import MultinomialNB\n",
    "from sklearn.metrics import accuracy_score, confusion_matrix\n",
    "train_path = 'aclImdb/test'\n",
    "test_path = 'aclImdb/train'\n",
    "\n",
    "train_texts = []\n",
    "train_labels = []\n",
    "for label_type in ['neg', 'pos']:\n",
    "    dir_name = os.path.join(train_path, label_type)\n",
    "    for fname in os.listdir(dir_name):\n",
    "        if fname.endswith('.txt'):\n",
    "            with open(os.path.join(dir_name, fname), encoding='utf-8') as f:\n",
    "                train_texts.append(f.read())\n",
    "            if label_type == 'neg':\n",
    "                train_labels.append(0)\n",
    "            else:\n",
    "                train_labels.append(1)\n",
    "\n",
    "test_texts = []\n",
    "test_labels = []\n",
    "for label_type in ['neg', 'pos']:\n",
    "    dir_name = os.path.join(test_path, label_type)\n",
    "    for fname in os.listdir(dir_name):\n",
    "        if fname.endswith('.txt'):\n",
    "            with open(os.path.join(dir_name, fname), encoding='utf-8') as f:\n",
    "                test_texts.append(f.read())\n",
    "            if label_type == 'neg':\n",
    "                test_labels.append(0)\n",
    "            else:\n",
    "                test_labels.append(1)\n",
    "train_texts = np.array(train_texts)\n",
    "test_texts = np.array(test_texts)\n",
    "vectorizer_train = CountVectorizer()\n",
    "vectorizer_test = CountVectorizer(max_features=73822)\n",
    "train_features_ = vectorizer_train.fit_transform(train_texts)\n",
    "train_features =  train_features_.toarray()\n",
    "train_labels =  np.array(train_labels)\n",
    "test_features_ = vectorizer_test.fit_transform(test_texts)\n",
    "test_features =  test_features_.toarray()\n",
    "test_labels =  np.array(train_labels)"
   ]
  },
  {
   "cell_type": "code",
   "execution_count": 41,
   "metadata": {},
   "outputs": [],
   "source": [
    "\n",
    "class GaussianNaiveBayes:\n",
    "    def __init__(self,laplace_smoothing=1):\n",
    "        self.prior = None\n",
    "        self.likelihood = None\n",
    "        self.laplace_smoothing = laplace_smoothing\n",
    "    def fit(self, X, y):\n",
    "        self.prior = np.zeros(2)\n",
    "        self.likelihood = np.zeros((2, X.shape[1]))\n",
    "        for label in [0, 1]:\n",
    "            subset = X[y == label]\n",
    "            self.prior[label] = subset.shape[0] / X.shape[0]\n",
    "            self.likelihood[label, :] = (np.sum(subset, axis=0) + self.laplace_smoothing) / (np.sum(subset) + X.shape[1])\n",
    "        return self\n",
    "    def predict(self, X):\n",
    "        yh = np.zeros(X.shape[0])\n",
    "        for i, x in enumerate(X):\n",
    "            prediction = []\n",
    "            for label in [0, 1]:\n",
    "                likelihood_sum = np.sum(np.log(self.likelihood[label, x == 1]))\n",
    "                prior_log = np.log(self.prior[label])\n",
    "                prediction.append(prior_log + likelihood_sum)\n",
    "            yh[i] = np.argmax(prediction)\n",
    "        return yh\n",
    "\n"
   ]
  },
  {
   "cell_type": "code",
   "execution_count": 37,
   "metadata": {},
   "outputs": [],
   "source": [
    "def evaluate_acc(predicted, actual):\n",
    "    return np.sum(actual == predicted)/predicted.shape[0]"
   ]
  },
  {
   "cell_type": "code",
   "execution_count": 42,
   "metadata": {},
   "outputs": [
    {
     "name": "stdout",
     "output_type": "stream",
     "text": [
      "0.90364\n"
     ]
    }
   ],
   "source": [
    "gnb = GaussianNaiveBayes(laplace_smoothing=1.3)\n",
    "a = gnb.fit(train_features, train_labels)\n",
    "yh = a.predict(train_features)\n",
    "print(evaluate_acc(yh, train_labels))"
   ]
  },
  {
   "cell_type": "code",
   "execution_count": 40,
   "metadata": {},
   "outputs": [
    {
     "name": "stdout",
     "output_type": "stream",
     "text": [
      "0.4962\n"
     ]
    }
   ],
   "source": [
    "yh = a.predict(test_features)\n",
    "print(evaluate_acc(yh, test_labels))"
   ]
  }
 ],
 "metadata": {
  "kernelspec": {
   "display_name": "Python 3",
   "language": "python",
   "name": "python3"
  },
  "language_info": {
   "codemirror_mode": {
    "name": "ipython",
    "version": 3
   },
   "file_extension": ".py",
   "mimetype": "text/x-python",
   "name": "python",
   "nbconvert_exporter": "python",
   "pygments_lexer": "ipython3",
   "version": "3.10.0"
  },
  "orig_nbformat": 4
 },
 "nbformat": 4,
 "nbformat_minor": 2
}
